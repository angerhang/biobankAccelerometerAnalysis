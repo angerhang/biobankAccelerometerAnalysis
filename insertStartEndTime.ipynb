{
 "cells": [
  {
   "cell_type": "markdown",
   "metadata": {},
   "source": [
    "# this is used for sleep staging.\n",
    "We have to make sure that the starting timestamps and labels are aligned"
   ]
  },
  {
   "cell_type": "code",
   "execution_count": 1,
   "metadata": {},
   "outputs": [],
   "source": [
    "import pandas as pd\n",
    "from datetime import datetime, timedelta"
   ]
  },
  {
   "cell_type": "code",
   "execution_count": 130,
   "metadata": {},
   "outputs": [],
   "source": [
    "destSleepPath = '/well/doherty/users/cxx579/project_data/raine/gen1_26/allSleepTime.csv'\n",
    "sleepDf = pd.read_csv(destSleepPath)"
   ]
  },
  {
   "cell_type": "code",
   "execution_count": 131,
   "metadata": {},
   "outputs": [
    {
     "data": {
      "text/html": [
       "<div>\n",
       "<style scoped>\n",
       "    .dataframe tbody tr th:only-of-type {\n",
       "        vertical-align: middle;\n",
       "    }\n",
       "\n",
       "    .dataframe tbody tr th {\n",
       "        vertical-align: top;\n",
       "    }\n",
       "\n",
       "    .dataframe thead th {\n",
       "        text-align: right;\n",
       "    }\n",
       "</style>\n",
       "<table border=\"1\" class=\"dataframe\">\n",
       "  <thead>\n",
       "    <tr style=\"text-align: right;\">\n",
       "      <th></th>\n",
       "      <th>Unnamed: 0</th>\n",
       "      <th>subject_id</th>\n",
       "      <th>start_time</th>\n",
       "      <th>end_time</th>\n",
       "      <th>epoch_path</th>\n",
       "      <th>epoch_start_time</th>\n",
       "      <th>epoch_end_time</th>\n",
       "    </tr>\n",
       "  </thead>\n",
       "  <tbody>\n",
       "    <tr>\n",
       "      <td>0</td>\n",
       "      <td>0</td>\n",
       "      <td>830928</td>\n",
       "      <td>2017-04-17 22:29:14</td>\n",
       "      <td>2017-04-18 05:26:14</td>\n",
       "      <td>/well/doherty/projects/raine/gen1_26/gt3x/wris...</td>\n",
       "      <td>2017-04-17 18:00:00.033+0800 [Australia/Perth]</td>\n",
       "      <td>2017-04-18 17:59:30.033+0800 [Australia/Perth]</td>\n",
       "    </tr>\n",
       "    <tr>\n",
       "      <td>1</td>\n",
       "      <td>1</td>\n",
       "      <td>342948</td>\n",
       "      <td>2016-11-30 21:59:31</td>\n",
       "      <td>2016-12-01 05:06:01</td>\n",
       "      <td>/well/doherty/projects/raine/gen1_26/gt3x/wris...</td>\n",
       "      <td>2016-11-30 18:00:00.033+0800 [Australia/Perth]</td>\n",
       "      <td>2016-12-01 17:59:30.033+0800 [Australia/Perth]</td>\n",
       "    </tr>\n",
       "    <tr>\n",
       "      <td>2</td>\n",
       "      <td>2</td>\n",
       "      <td>343364</td>\n",
       "      <td>2016-05-26 22:05:51</td>\n",
       "      <td>2016-05-27 05:30:51</td>\n",
       "      <td>/well/doherty/projects/raine/gen1_26/gt3x/wris...</td>\n",
       "      <td>2016-05-26 18:00:00.033+0800 [Australia/Perth]</td>\n",
       "      <td>2016-05-27 17:59:30.033+0800 [Australia/Perth]</td>\n",
       "    </tr>\n",
       "    <tr>\n",
       "      <td>3</td>\n",
       "      <td>3</td>\n",
       "      <td>788310</td>\n",
       "      <td>2017-01-30 21:45:11</td>\n",
       "      <td>2017-01-31 06:20:41</td>\n",
       "      <td>/well/doherty/projects/raine/gen1_26/gt3x/wris...</td>\n",
       "      <td>2017-01-30 18:00:00.033+0800 [Australia/Perth]</td>\n",
       "      <td>2017-01-31 17:59:30.033+0800 [Australia/Perth]</td>\n",
       "    </tr>\n",
       "    <tr>\n",
       "      <td>4</td>\n",
       "      <td>4</td>\n",
       "      <td>906975</td>\n",
       "      <td>2015-10-29 22:23:09</td>\n",
       "      <td>2015-10-30 05:45:09</td>\n",
       "      <td>/well/doherty/projects/raine/gen1_26/gt3x/wris...</td>\n",
       "      <td>2015-10-29 18:00:00.033+0800 [Australia/Perth]</td>\n",
       "      <td>2015-10-30 17:59:30.033+0800 [Australia/Perth]</td>\n",
       "    </tr>\n",
       "    <tr>\n",
       "      <td>...</td>\n",
       "      <td>...</td>\n",
       "      <td>...</td>\n",
       "      <td>...</td>\n",
       "      <td>...</td>\n",
       "      <td>...</td>\n",
       "      <td>...</td>\n",
       "      <td>...</td>\n",
       "    </tr>\n",
       "    <tr>\n",
       "      <td>1014</td>\n",
       "      <td>996</td>\n",
       "      <td>183043</td>\n",
       "      <td>2016-11-08 21:56:31</td>\n",
       "      <td>2016-11-09 05:52:01</td>\n",
       "      <td>/well/doherty/projects/raine/gen1_26/gt3x/wris...</td>\n",
       "      <td>2016-11-08 18:00:00.033+0800 [Australia/Perth]</td>\n",
       "      <td>2016-11-09 17:59:30.033+0800 [Australia/Perth]</td>\n",
       "    </tr>\n",
       "    <tr>\n",
       "      <td>1015</td>\n",
       "      <td>997</td>\n",
       "      <td>281230</td>\n",
       "      <td>2016-06-17 22:30:51</td>\n",
       "      <td>2016-06-18 06:09:21</td>\n",
       "      <td>/well/doherty/projects/raine/gen1_26/gt3x/wris...</td>\n",
       "      <td>2016-06-17 18:00:00.033+0800 [Australia/Perth]</td>\n",
       "      <td>2016-06-18 17:59:30.033+0800 [Australia/Perth]</td>\n",
       "    </tr>\n",
       "    <tr>\n",
       "      <td>1016</td>\n",
       "      <td>998</td>\n",
       "      <td>163041</td>\n",
       "      <td>2017-02-08 22:14:55</td>\n",
       "      <td>2017-02-09 06:02:55</td>\n",
       "      <td>/well/doherty/projects/raine/gen1_26/gt3x/wris...</td>\n",
       "      <td>2017-02-08 18:00:00.033+0800 [Australia/Perth]</td>\n",
       "      <td>2017-02-09 17:59:30.033+0800 [Australia/Perth]</td>\n",
       "    </tr>\n",
       "    <tr>\n",
       "      <td>1017</td>\n",
       "      <td>999</td>\n",
       "      <td>369218</td>\n",
       "      <td>2016-12-12 22:14:48</td>\n",
       "      <td>2016-12-13 06:01:18</td>\n",
       "      <td>/well/doherty/projects/raine/gen1_26/gt3x/wris...</td>\n",
       "      <td>2016-12-12 18:00:00.033+0800 [Australia/Perth]</td>\n",
       "      <td>2016-12-13 17:59:30.033+0800 [Australia/Perth]</td>\n",
       "    </tr>\n",
       "    <tr>\n",
       "      <td>1018</td>\n",
       "      <td>1000</td>\n",
       "      <td>634032</td>\n",
       "      <td>2017-04-05 22:41:27</td>\n",
       "      <td>2017-04-06 06:36:57</td>\n",
       "      <td>/well/doherty/projects/raine/gen1_26/gt3x/wris...</td>\n",
       "      <td>2017-04-05 18:00:00.033+0800 [Australia/Perth]</td>\n",
       "      <td>2017-04-06 17:59:30.033+0800 [Australia/Perth]</td>\n",
       "    </tr>\n",
       "  </tbody>\n",
       "</table>\n",
       "<p>1019 rows × 7 columns</p>\n",
       "</div>"
      ],
      "text/plain": [
       "      Unnamed: 0  subject_id           start_time             end_time  \\\n",
       "0              0      830928  2017-04-17 22:29:14  2017-04-18 05:26:14   \n",
       "1              1      342948  2016-11-30 21:59:31  2016-12-01 05:06:01   \n",
       "2              2      343364  2016-05-26 22:05:51  2016-05-27 05:30:51   \n",
       "3              3      788310  2017-01-30 21:45:11  2017-01-31 06:20:41   \n",
       "4              4      906975  2015-10-29 22:23:09  2015-10-30 05:45:09   \n",
       "...          ...         ...                  ...                  ...   \n",
       "1014         996      183043  2016-11-08 21:56:31  2016-11-09 05:52:01   \n",
       "1015         997      281230  2016-06-17 22:30:51  2016-06-18 06:09:21   \n",
       "1016         998      163041  2017-02-08 22:14:55  2017-02-09 06:02:55   \n",
       "1017         999      369218  2016-12-12 22:14:48  2016-12-13 06:01:18   \n",
       "1018        1000      634032  2017-04-05 22:41:27  2017-04-06 06:36:57   \n",
       "\n",
       "                                             epoch_path  \\\n",
       "0     /well/doherty/projects/raine/gen1_26/gt3x/wris...   \n",
       "1     /well/doherty/projects/raine/gen1_26/gt3x/wris...   \n",
       "2     /well/doherty/projects/raine/gen1_26/gt3x/wris...   \n",
       "3     /well/doherty/projects/raine/gen1_26/gt3x/wris...   \n",
       "4     /well/doherty/projects/raine/gen1_26/gt3x/wris...   \n",
       "...                                                 ...   \n",
       "1014  /well/doherty/projects/raine/gen1_26/gt3x/wris...   \n",
       "1015  /well/doherty/projects/raine/gen1_26/gt3x/wris...   \n",
       "1016  /well/doherty/projects/raine/gen1_26/gt3x/wris...   \n",
       "1017  /well/doherty/projects/raine/gen1_26/gt3x/wris...   \n",
       "1018  /well/doherty/projects/raine/gen1_26/gt3x/wris...   \n",
       "\n",
       "                                    epoch_start_time  \\\n",
       "0     2017-04-17 18:00:00.033+0800 [Australia/Perth]   \n",
       "1     2016-11-30 18:00:00.033+0800 [Australia/Perth]   \n",
       "2     2016-05-26 18:00:00.033+0800 [Australia/Perth]   \n",
       "3     2017-01-30 18:00:00.033+0800 [Australia/Perth]   \n",
       "4     2015-10-29 18:00:00.033+0800 [Australia/Perth]   \n",
       "...                                              ...   \n",
       "1014  2016-11-08 18:00:00.033+0800 [Australia/Perth]   \n",
       "1015  2016-06-17 18:00:00.033+0800 [Australia/Perth]   \n",
       "1016  2017-02-08 18:00:00.033+0800 [Australia/Perth]   \n",
       "1017  2016-12-12 18:00:00.033+0800 [Australia/Perth]   \n",
       "1018  2017-04-05 18:00:00.033+0800 [Australia/Perth]   \n",
       "\n",
       "                                      epoch_end_time  \n",
       "0     2017-04-18 17:59:30.033+0800 [Australia/Perth]  \n",
       "1     2016-12-01 17:59:30.033+0800 [Australia/Perth]  \n",
       "2     2016-05-27 17:59:30.033+0800 [Australia/Perth]  \n",
       "3     2017-01-31 17:59:30.033+0800 [Australia/Perth]  \n",
       "4     2015-10-30 17:59:30.033+0800 [Australia/Perth]  \n",
       "...                                              ...  \n",
       "1014  2016-11-09 17:59:30.033+0800 [Australia/Perth]  \n",
       "1015  2016-06-18 17:59:30.033+0800 [Australia/Perth]  \n",
       "1016  2017-02-09 17:59:30.033+0800 [Australia/Perth]  \n",
       "1017  2016-12-13 17:59:30.033+0800 [Australia/Perth]  \n",
       "1018  2017-04-06 17:59:30.033+0800 [Australia/Perth]  \n",
       "\n",
       "[1019 rows x 7 columns]"
      ]
     },
     "execution_count": 131,
     "metadata": {},
     "output_type": "execute_result"
    }
   ],
   "source": [
    "sleepDf"
   ]
  },
  {
   "cell_type": "markdown",
   "metadata": {},
   "source": [
    "# Find the threshold for good quality wear time "
   ]
  },
  {
   "cell_type": "code",
   "execution_count": 132,
   "metadata": {},
   "outputs": [],
   "source": [
    "sleepDf['start_time'] = pd.to_datetime(sleepDf['start_time'], format='%Y-%m-%d %H:%M:%S')\n",
    "sleepDf['end_time'] = pd.to_datetime(sleepDf['end_time'], format='%Y-%m-%d %H:%M:%S')"
   ]
  },
  {
   "cell_type": "code",
   "execution_count": 136,
   "metadata": {},
   "outputs": [],
   "source": [
    "sleepDf['sleep_duration'] = sleepDf['end_time'] - sleepDf['start_time']"
   ]
  },
  {
   "cell_type": "code",
   "execution_count": 134,
   "metadata": {},
   "outputs": [],
   "source": [
    "sleepDf['sleep_duration'] = sleepDf['sleep_duration'].astype('timedelta64[h]')"
   ]
  },
  {
   "cell_type": "code",
   "execution_count": 137,
   "metadata": {},
   "outputs": [
    {
     "data": {
      "text/html": [
       "<div>\n",
       "<style scoped>\n",
       "    .dataframe tbody tr th:only-of-type {\n",
       "        vertical-align: middle;\n",
       "    }\n",
       "\n",
       "    .dataframe tbody tr th {\n",
       "        vertical-align: top;\n",
       "    }\n",
       "\n",
       "    .dataframe thead th {\n",
       "        text-align: right;\n",
       "    }\n",
       "</style>\n",
       "<table border=\"1\" class=\"dataframe\">\n",
       "  <thead>\n",
       "    <tr style=\"text-align: right;\">\n",
       "      <th></th>\n",
       "      <th>Unnamed: 0</th>\n",
       "      <th>subject_id</th>\n",
       "      <th>start_time</th>\n",
       "      <th>end_time</th>\n",
       "      <th>epoch_path</th>\n",
       "      <th>epoch_start_time</th>\n",
       "      <th>epoch_end_time</th>\n",
       "      <th>sleep_duration</th>\n",
       "    </tr>\n",
       "  </thead>\n",
       "  <tbody>\n",
       "  </tbody>\n",
       "</table>\n",
       "</div>"
      ],
      "text/plain": [
       "Empty DataFrame\n",
       "Columns: [Unnamed: 0, subject_id, start_time, end_time, epoch_path, epoch_start_time, epoch_end_time, sleep_duration]\n",
       "Index: []"
      ]
     },
     "execution_count": 137,
     "metadata": {},
     "output_type": "execute_result"
    }
   ],
   "source": [
    "sleepDf[sleepDf['sleep_duration'] > timedelta(hours=12)]"
   ]
  },
  {
   "cell_type": "code",
   "execution_count": 139,
   "metadata": {},
   "outputs": [
    {
     "data": {
      "text/plain": [
       "False"
      ]
     },
     "execution_count": 139,
     "metadata": {},
     "output_type": "execute_result"
    }
   ],
   "source": [
    "sleepDf['sleep_duration'].isnull().values.any()"
   ]
  },
  {
   "cell_type": "code",
   "execution_count": 143,
   "metadata": {},
   "outputs": [
    {
     "data": {
      "text/plain": [
       "<matplotlib.axes._subplots.AxesSubplot at 0x7fac35071c90>"
      ]
     },
     "execution_count": 143,
     "metadata": {},
     "output_type": "execute_result"
    },
    {
     "data": {
      "image/png": "[encoded data removed]",
      "text/plain": [
       "<Figure size 432x288 with 1 Axes>"
      ]
     },
     "metadata": {
      "needs_background": "light"
     },
     "output_type": "display_data"
    }
   ],
   "source": [
    "sleepDf['sleep_duration'].astype('timedelta64[m]').plot.hist(bins=50)"
   ]
  },
  {
   "cell_type": "code",
   "execution_count": 13,
   "metadata": {},
   "outputs": [],
   "source": [
    "# # Modify command line script\n",
    "def extract_file_name(command_str):\n",
    "    file_path = command_str.split(' ')\n",
    "    file_path = file_path[2]\n",
    "    file_path = file_path[1:]\n",
    "    file_path = file_path[:-1] # remove quotation marks\n",
    "\n",
    "    return file_path.split(\"/\")[-1]"
   ]
  },
  {
   "cell_type": "code",
   "execution_count": 14,
   "metadata": {},
   "outputs": [],
   "source": [
    "def get_subjectID(file_name):\n",
    "    return file_name.split('_')[0]"
   ]
  },
  {
   "cell_type": "code",
   "execution_count": 20,
   "metadata": {},
   "outputs": [],
   "source": [
    "my_id = get_subjectID('830928_wrist_2016-01-18.gt3x')"
   ]
  },
  {
   "cell_type": "code",
   "execution_count": 24,
   "metadata": {},
   "outputs": [],
   "source": [
    "result = sleepDf[sleepDf['subject_id'] == int(my_id)]"
   ]
  },
  {
   "cell_type": "code",
   "execution_count": 62,
   "metadata": {},
   "outputs": [],
   "source": [
    "my_start_time = result.iloc[0]['start_time']\n",
    "my_end_time = result.iloc[0]['end_time']"
   ]
  },
  {
   "cell_type": "code",
   "execution_count": 63,
   "metadata": {},
   "outputs": [],
   "source": [
    "my_start_time = datetime.strptime(my_start_time, '%Y-%m-%d %H:%M:%S')\n",
    "my_end_time = datetime.strptime(my_end_time, '%Y-%m-%d %H:%M:%S')\n",
    "my_end_time = my_end_time + timedelta(minutes=2)\n",
    "\n",
    "my_start_time = my_start_time.strftime('%Y-%m-%dT%H:%M')\n",
    "my_end_time = my_end_time.strftime('%Y-%m-%dT%H:%M')"
   ]
  },
  {
   "cell_type": "code",
   "execution_count": 11,
   "metadata": {},
   "outputs": [],
   "source": [
    "data_dir = '/well/doherty/projects/raine/gen1_26/gt3x/wrist'\n",
    "script_dir ='/well/doherty/users/cxx579/test_process/myBBAA/process-raine-gen1-cmds.txt'\n",
    "dest_script_dir = '/well/doherty/users/cxx579/test_process/myBBAA/process-raine-gen1-cmds-final.txt'\n",
    "sleep_time_dir ='/well/doherty/users/cxx579/project_data/raine/gen1_26/allSleepTime.csv'\n",
    "missing_file_dir = data_dir + \"filesWithoutLabels.pkl\"\n",
    "\n",
    "## Modify command line script\n",
    "def extract_file_name(command_str):\n",
    "    file_path = command_str.split(' ')\n",
    "    file_path = file_path[2]\n",
    "    file_path = file_path[1:]\n",
    "    file_path = file_path[:-1] # remove quotation marks\n",
    "\n",
    "    return file_path.split(\"/\")[-1]"
   ]
  },
  {
   "cell_type": "code",
   "execution_count": 7,
   "metadata": {},
   "outputs": [],
   "source": [
    "\n",
    "def get_subjectID(file_name):\n",
    "    return file_name.split('_')[0]\n",
    "\n",
    "\n",
    "sleepDf = pd.read_csv(sleep_time_dir)\n",
    "f = open(script_dir, \"r\")\n",
    "k = 0\n"
   ]
  },
  {
   "cell_type": "code",
   "execution_count": 8,
   "metadata": {},
   "outputs": [],
   "source": [
    "missing_sleep_labels = []\n",
    "with open(dest_script_dir, 'a') as dest_f:\n",
    "    for x in f:\n",
    "        my_file_name = extract_file_name(x)\n",
    "        my_id = get_subjectID(my_file_name)\n",
    "        result = sleepDf[sleepDf['subject_id'] == int(my_id)]\n",
    "\n",
    "        if (len(result) == 0):\n",
    "            missing_sleep_labels.append(my_file_name)\n",
    "            continue\n",
    "        my_start_time = result.iloc[0]['start_time']\n",
    "        my_end_time = result.iloc[0]['end_time']\n",
    "        \n",
    "        my_start_time = datetime.strptime(my_start_time, '%Y-%m-%d %H:%M:%S')\n",
    "        my_end_time = datetime.strptime(my_end_time, '%Y-%m-%d %H:%M:%S')\n",
    "        my_end_time = my_end_time + timedelta(minutes=2)\n",
    "\n",
    "        my_start_time = my_start_time.strftime('%Y-%m-%dT%H:%M')\n",
    "        my_end_time = my_end_time.strftime('%Y-%m-%dT%H:%M')\n",
    "        x = x[:-1] # remove line break\n",
    "        x = x + ' --startTime ' + my_start_time\n",
    "        x = x + ' --endTime ' + my_end_time + '\\n'\n",
    "        dest_f.write(x)"
   ]
  },
  {
   "cell_type": "code",
   "execution_count": 10,
   "metadata": {},
   "outputs": [
    {
     "data": {
      "text/plain": [
       "47"
      ]
     },
     "execution_count": 10,
     "metadata": {},
     "output_type": "execute_result"
    }
   ],
   "source": [
    "\n",
    "len(missing_sleep_labels)"
   ]
  },
  {
   "cell_type": "code",
   "execution_count": 12,
   "metadata": {},
   "outputs": [],
   "source": []
  },
  {
   "cell_type": "code",
   "execution_count": null,
   "metadata": {},
   "outputs": [],
   "source": []
  }
 ],
 "metadata": {
  "kernelspec": {
   "display_name": "Python 3",
   "language": "python",
   "name": "python3"
  },
  "language_info": {
   "codemirror_mode": {
    "name": "ipython",
    "version": 3
   },
   "file_extension": ".py",
   "mimetype": "text/x-python",
   "name": "python",
   "nbconvert_exporter": "python",
   "pygments_lexer": "ipython3",
   "version": "3.7.4"
  }
 },
 "nbformat": 4,
 "nbformat_minor": 2
}
