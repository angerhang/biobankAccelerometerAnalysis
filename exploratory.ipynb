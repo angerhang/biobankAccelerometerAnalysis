{
 "cells": [
  {
   "cell_type": "markdown",
   "metadata": {},
   "source": [
    "We will take a look at the the data distributions of the master data file to ensure its quality and remove anything that doesn't pass the inclusion criterions"
   ]
  },
  {
   "cell_type": "code",
   "execution_count": 1,
   "metadata": {},
   "outputs": [],
   "source": [
    "import os \n",
    "import pandas as pd\n",
    "import matplotlib.pyplot as plt\n",
    "import numpy as np\n",
    "master_file = os.path.join('/well/doherty/projects/raine/gen1_26/gt3x/wrist/sleepOct20', 'master.csv.gz')\n",
    "clean_master_file = os.path.join('/well/doherty/projects/raine/gen1_26/gt3x/wrist/sleepOct20', 'clean_master.csv.gz')"
   ]
  },
  {
   "cell_type": "code",
   "execution_count": 5,
   "metadata": {},
   "outputs": [],
   "source": [
    "main_df = pd.read_csv(master_file, index_col=False)\n",
    "main_df = main_df.loc[:, ~main_df.columns.str.contains('^Unnamed')]\n",
    "main_df = main_df.loc[:, ~main_df.columns.str.contains('^idx')]"
   ]
  },
  {
   "cell_type": "code",
   "execution_count": 20,
   "metadata": {},
   "outputs": [
    {
     "data": {
      "text/plain": [
       "845535"
      ]
     },
     "execution_count": 20,
     "metadata": {},
     "output_type": "execute_result"
    }
   ],
   "source": [
    "len(main_df)"
   ]
  },
  {
   "cell_type": "code",
   "execution_count": 10,
   "metadata": {},
   "outputs": [
    {
     "data": {
      "text/html": [
       "<div>\n",
       "<style scoped>\n",
       "    .dataframe tbody tr th:only-of-type {\n",
       "        vertical-align: middle;\n",
       "    }\n",
       "\n",
       "    .dataframe tbody tr th {\n",
       "        vertical-align: top;\n",
       "    }\n",
       "\n",
       "    .dataframe thead th {\n",
       "        text-align: right;\n",
       "    }\n",
       "</style>\n",
       "<table border=\"1\" class=\"dataframe\">\n",
       "  <thead>\n",
       "    <tr style=\"text-align: right;\">\n",
       "      <th></th>\n",
       "      <th>time</th>\n",
       "      <th>sleep_stage</th>\n",
       "      <th>enmoTrunc</th>\n",
       "      <th>enmoAbs</th>\n",
       "      <th>xMean</th>\n",
       "      <th>yMean</th>\n",
       "      <th>zMean</th>\n",
       "      <th>xRange</th>\n",
       "      <th>yRange</th>\n",
       "      <th>zRange</th>\n",
       "      <th>...</th>\n",
       "      <th>vmfft10</th>\n",
       "      <th>vmfft11</th>\n",
       "      <th>vmfft12</th>\n",
       "      <th>temp</th>\n",
       "      <th>samples</th>\n",
       "      <th>dataErrors</th>\n",
       "      <th>clipsBeforeCalibr</th>\n",
       "      <th>clipsAfterCalibr</th>\n",
       "      <th>rawSamples</th>\n",
       "      <th>pid</th>\n",
       "    </tr>\n",
       "  </thead>\n",
       "  <tbody>\n",
       "    <tr>\n",
       "      <th>0</th>\n",
       "      <td>2016-09-14 22:05:48</td>\n",
       "      <td>0</td>\n",
       "      <td>0.002441</td>\n",
       "      <td>0.003154</td>\n",
       "      <td>0.530467</td>\n",
       "      <td>-0.158635</td>\n",
       "      <td>-0.834665</td>\n",
       "      <td>0.069175</td>\n",
       "      <td>0.073022</td>\n",
       "      <td>0.043869</td>\n",
       "      <td>...</td>\n",
       "      <td>0.000026</td>\n",
       "      <td>0.000016</td>\n",
       "      <td>0.000035</td>\n",
       "      <td>1.0</td>\n",
       "      <td>900.0</td>\n",
       "      <td>0.0</td>\n",
       "      <td>0.0</td>\n",
       "      <td>0.0</td>\n",
       "      <td>901.0</td>\n",
       "      <td>309851</td>\n",
       "    </tr>\n",
       "    <tr>\n",
       "      <th>1</th>\n",
       "      <td>2016-09-14 22:06:18</td>\n",
       "      <td>0</td>\n",
       "      <td>0.011548</td>\n",
       "      <td>0.017493</td>\n",
       "      <td>0.716109</td>\n",
       "      <td>-0.166347</td>\n",
       "      <td>-0.617661</td>\n",
       "      <td>0.953613</td>\n",
       "      <td>0.484146</td>\n",
       "      <td>0.649047</td>\n",
       "      <td>...</td>\n",
       "      <td>0.000529</td>\n",
       "      <td>0.000611</td>\n",
       "      <td>0.000705</td>\n",
       "      <td>1.0</td>\n",
       "      <td>900.0</td>\n",
       "      <td>0.0</td>\n",
       "      <td>0.0</td>\n",
       "      <td>0.0</td>\n",
       "      <td>902.0</td>\n",
       "      <td>309851</td>\n",
       "    </tr>\n",
       "    <tr>\n",
       "      <th>2</th>\n",
       "      <td>2016-09-14 22:06:48</td>\n",
       "      <td>0</td>\n",
       "      <td>0.009615</td>\n",
       "      <td>0.012009</td>\n",
       "      <td>0.863934</td>\n",
       "      <td>-0.099551</td>\n",
       "      <td>-0.499668</td>\n",
       "      <td>0.562286</td>\n",
       "      <td>0.454137</td>\n",
       "      <td>1.092712</td>\n",
       "      <td>...</td>\n",
       "      <td>0.000710</td>\n",
       "      <td>0.000678</td>\n",
       "      <td>0.000527</td>\n",
       "      <td>1.0</td>\n",
       "      <td>900.0</td>\n",
       "      <td>0.0</td>\n",
       "      <td>0.0</td>\n",
       "      <td>0.0</td>\n",
       "      <td>902.0</td>\n",
       "      <td>309851</td>\n",
       "    </tr>\n",
       "    <tr>\n",
       "      <th>3</th>\n",
       "      <td>2016-09-14 22:07:18</td>\n",
       "      <td>0</td>\n",
       "      <td>0.006272</td>\n",
       "      <td>0.006386</td>\n",
       "      <td>0.807006</td>\n",
       "      <td>-0.092272</td>\n",
       "      <td>-0.593144</td>\n",
       "      <td>0.057316</td>\n",
       "      <td>0.109033</td>\n",
       "      <td>0.087737</td>\n",
       "      <td>...</td>\n",
       "      <td>0.000045</td>\n",
       "      <td>0.000032</td>\n",
       "      <td>0.000048</td>\n",
       "      <td>1.0</td>\n",
       "      <td>900.0</td>\n",
       "      <td>0.0</td>\n",
       "      <td>0.0</td>\n",
       "      <td>0.0</td>\n",
       "      <td>902.0</td>\n",
       "      <td>309851</td>\n",
       "    </tr>\n",
       "    <tr>\n",
       "      <th>4</th>\n",
       "      <td>2016-09-14 22:07:48</td>\n",
       "      <td>0</td>\n",
       "      <td>0.008497</td>\n",
       "      <td>0.011191</td>\n",
       "      <td>0.813446</td>\n",
       "      <td>-0.067297</td>\n",
       "      <td>-0.584071</td>\n",
       "      <td>0.515841</td>\n",
       "      <td>0.546164</td>\n",
       "      <td>0.403785</td>\n",
       "      <td>...</td>\n",
       "      <td>0.000144</td>\n",
       "      <td>0.000014</td>\n",
       "      <td>0.000049</td>\n",
       "      <td>1.0</td>\n",
       "      <td>900.0</td>\n",
       "      <td>0.0</td>\n",
       "      <td>0.0</td>\n",
       "      <td>0.0</td>\n",
       "      <td>902.0</td>\n",
       "      <td>309851</td>\n",
       "    </tr>\n",
       "  </tbody>\n",
       "</table>\n",
       "<p>5 rows × 122 columns</p>\n",
       "</div>"
      ],
      "text/plain": [
       "                  time  sleep_stage  enmoTrunc   enmoAbs     xMean     yMean  \\\n",
       "0  2016-09-14 22:05:48            0   0.002441  0.003154  0.530467 -0.158635   \n",
       "1  2016-09-14 22:06:18            0   0.011548  0.017493  0.716109 -0.166347   \n",
       "2  2016-09-14 22:06:48            0   0.009615  0.012009  0.863934 -0.099551   \n",
       "3  2016-09-14 22:07:18            0   0.006272  0.006386  0.807006 -0.092272   \n",
       "4  2016-09-14 22:07:48            0   0.008497  0.011191  0.813446 -0.067297   \n",
       "\n",
       "      zMean    xRange    yRange    zRange  ...   vmfft10   vmfft11   vmfft12  \\\n",
       "0 -0.834665  0.069175  0.073022  0.043869  ...  0.000026  0.000016  0.000035   \n",
       "1 -0.617661  0.953613  0.484146  0.649047  ...  0.000529  0.000611  0.000705   \n",
       "2 -0.499668  0.562286  0.454137  1.092712  ...  0.000710  0.000678  0.000527   \n",
       "3 -0.593144  0.057316  0.109033  0.087737  ...  0.000045  0.000032  0.000048   \n",
       "4 -0.584071  0.515841  0.546164  0.403785  ...  0.000144  0.000014  0.000049   \n",
       "\n",
       "   temp  samples  dataErrors  clipsBeforeCalibr  clipsAfterCalibr  rawSamples  \\\n",
       "0   1.0    900.0         0.0                0.0               0.0       901.0   \n",
       "1   1.0    900.0         0.0                0.0               0.0       902.0   \n",
       "2   1.0    900.0         0.0                0.0               0.0       902.0   \n",
       "3   1.0    900.0         0.0                0.0               0.0       902.0   \n",
       "4   1.0    900.0         0.0                0.0               0.0       902.0   \n",
       "\n",
       "      pid  \n",
       "0  309851  \n",
       "1  309851  \n",
       "2  309851  \n",
       "3  309851  \n",
       "4  309851  \n",
       "\n",
       "[5 rows x 122 columns]"
      ]
     },
     "execution_count": 10,
     "metadata": {},
     "output_type": "execute_result"
    }
   ],
   "source": [
    "main_df.head()"
   ]
  },
  {
   "cell_type": "code",
   "execution_count": 12,
   "metadata": {},
   "outputs": [],
   "source": [
    "# number of subjects \n",
    "pid_counts = main_df['pid'].value_counts()"
   ]
  },
  {
   "cell_type": "code",
   "execution_count": 15,
   "metadata": {},
   "outputs": [
    {
     "data": {
      "text/plain": [
       "899589    1099\n",
       "609511    1096\n",
       "915985    1093\n",
       "727420    1082\n",
       "592918    1072\n",
       "          ... \n",
       "963600     601\n",
       "680971     567\n",
       "551292     397\n",
       "257243     395\n",
       "177457      97\n",
       "Name: pid, Length: 942, dtype: int64"
      ]
     },
     "execution_count": 15,
     "metadata": {},
     "output_type": "execute_result"
    }
   ],
   "source": [
    "pid_counts"
   ]
  },
  {
   "cell_type": "code",
   "execution_count": 18,
   "metadata": {},
   "outputs": [
    {
     "data": {
      "text/plain": [
       "Text(0, 0.5, 'Number of subjects')"
      ]
     },
     "execution_count": 18,
     "metadata": {},
     "output_type": "execute_result"
    },
    {
     "data": {
      "image/png": "[encoded data removed]",
      "text/plain": [
       "<Figure size 432x288 with 1 Axes>"
      ]
     },
     "metadata": {
      "needs_background": "light"
     },
     "output_type": "display_data"
    }
   ],
   "source": [
    "plt.hist(x=pid_counts, bins='auto')\n",
    "plt.xlabel('Number of epoches')\n",
    "plt.ylabel('Number of subjects')"
   ]
  },
  {
   "cell_type": "code",
   "execution_count": 19,
   "metadata": {},
   "outputs": [
    {
     "data": {
      "text/plain": [
       "time                     0\n",
       "sleep_stage              0\n",
       "enmoTrunc            30378\n",
       "enmoAbs              30378\n",
       "xMean                30378\n",
       "                     ...  \n",
       "dataErrors           30378\n",
       "clipsBeforeCalibr    30378\n",
       "clipsAfterCalibr     30378\n",
       "rawSamples           30378\n",
       "pid                      0\n",
       "Length: 122, dtype: int64"
      ]
     },
     "execution_count": 19,
     "metadata": {},
     "output_type": "execute_result"
    }
   ],
   "source": [
    "main_df.isna().sum()"
   ]
  },
  {
   "cell_type": "code",
   "execution_count": 23,
   "metadata": {},
   "outputs": [],
   "source": [
    "na_df = main_df[main_df.isnull().any(axis=1)]"
   ]
  },
  {
   "cell_type": "code",
   "execution_count": 28,
   "metadata": {},
   "outputs": [
    {
     "data": {
      "text/plain": [
       "39"
      ]
     },
     "execution_count": 28,
     "metadata": {},
     "output_type": "execute_result"
    }
   ],
   "source": [
    "len(na_df['pid'].value_counts())"
   ]
  },
  {
   "cell_type": "code",
   "execution_count": 29,
   "metadata": {},
   "outputs": [
    {
     "data": {
      "text/plain": [
       "522554    1018\n",
       "260090     996\n",
       "827199     966\n",
       "929902     957\n",
       "301790     947\n",
       "543967     933\n",
       "479326     927\n",
       "142644     926\n",
       "235990     912\n",
       "562380     908\n",
       "486215     889\n",
       "995478     887\n",
       "427831     884\n",
       "891469     877\n",
       "727965     873\n",
       "724246     868\n",
       "886832     864\n",
       "172453     861\n",
       "281167     822\n",
       "103103     796\n",
       "212078     789\n",
       "531980     787\n",
       "371890     769\n",
       "843822     768\n",
       "446966     766\n",
       "697324     757\n",
       "558132     750\n",
       "455217     747\n",
       "336637     745\n",
       "120226     744\n",
       "784971     736\n",
       "605324     702\n",
       "687006     690\n",
       "942099     659\n",
       "692409     651\n",
       "528922     626\n",
       "154201     559\n",
       "373066     530\n",
       "454217     423\n",
       "Name: pid, dtype: int64"
      ]
     },
     "execution_count": 29,
     "metadata": {},
     "output_type": "execute_result"
    }
   ],
   "source": [
    "na_df['pid'].value_counts()"
   ]
  },
  {
   "cell_type": "code",
   "execution_count": 79,
   "metadata": {},
   "outputs": [],
   "source": [
    "# Remove NA and inf\n",
    "main_df = main_df.replace([np.inf, -np.inf], np.nan)"
   ]
  },
  {
   "cell_type": "code",
   "execution_count": 80,
   "metadata": {},
   "outputs": [],
   "source": [
    "main_df = main_df[~main_df.isnull().any(axis=1)]"
   ]
  },
  {
   "cell_type": "markdown",
   "metadata": {},
   "source": [
    "# This threshold needs to be discussed "
   ]
  },
  {
   "cell_type": "code",
   "execution_count": 85,
   "metadata": {},
   "outputs": [],
   "source": [
    "# use 200 as a threshold \n",
    "pid_counts = main_df['pid'].value_counts()"
   ]
  },
  {
   "cell_type": "code",
   "execution_count": 86,
   "metadata": {},
   "outputs": [
    {
     "data": {
      "text/plain": [
       "899589    1099\n",
       "609511    1096\n",
       "915985    1093\n",
       "727420    1082\n",
       "592918    1072\n",
       "          ... \n",
       "336637      91\n",
       "103103      76\n",
       "301790      46\n",
       "724246      43\n",
       "558132       7\n",
       "Name: pid, Length: 925, dtype: int64"
      ]
     },
     "execution_count": 86,
     "metadata": {},
     "output_type": "execute_result"
    }
   ],
   "source": [
    "pid_counts"
   ]
  },
  {
   "cell_type": "code",
   "execution_count": 87,
   "metadata": {},
   "outputs": [
    {
     "data": {
      "text/plain": [
       "Text(0, 0.5, 'Number of subjects')"
      ]
     },
     "execution_count": 87,
     "metadata": {},
     "output_type": "execute_result"
    },
    {
     "data": {
      "image/png": "[encoded data removed]",
      "text/plain": [
       "<Figure size 432x288 with 1 Axes>"
      ]
     },
     "metadata": {
      "needs_background": "light"
     },
     "output_type": "display_data"
    }
   ],
   "source": [
    "plt.hist(x=pid_counts, bins='auto')\n",
    "plt.xlabel('Number of epoches')\n",
    "plt.ylabel('Number of subjects')"
   ]
  },
  {
   "cell_type": "code",
   "execution_count": 88,
   "metadata": {},
   "outputs": [],
   "source": [
    "# load quality df\n",
    "quality_df = pd.read_csv('/well/doherty/projects/raine/gen1_26/gt3x/wrist/sleepOct20/quality.csv')"
   ]
  },
  {
   "cell_type": "code",
   "execution_count": 89,
   "metadata": {},
   "outputs": [],
   "source": [
    "def xName2yName(x_name):\n",
    "    full_file_name = x_name.split('/')[-1]\n",
    "    full_file_name = full_file_name[:-13]\n",
    "    subject_id = full_file_name.split('_')[0]\n",
    "    \n",
    "    return subject_id"
   ]
  },
  {
   "cell_type": "code",
   "execution_count": 90,
   "metadata": {},
   "outputs": [],
   "source": [
    "quality_df['pid'] = quality_df['file_name'].apply(lambda x: xName2yName(x))\n",
    "quality_ok_pids = quality_df['pid']\n",
    "quality_ok_pids = quality_ok_pids.to_list()"
   ]
  },
  {
   "cell_type": "code",
   "execution_count": 102,
   "metadata": {},
   "outputs": [],
   "source": [
    "quality_ok_pids = list(map(int, quality_ok_pids))"
   ]
  },
  {
   "cell_type": "code",
   "execution_count": 95,
   "metadata": {},
   "outputs": [],
   "source": [
    "pids2check = main_df['pid'].unique()"
   ]
  },
  {
   "cell_type": "code",
   "execution_count": 103,
   "metadata": {},
   "outputs": [],
   "source": [
    "pids2keep = []\n",
    "for my_id in pids2check:\n",
    "    if my_id in quality_ok_pids:\n",
    "        pids2keep.append(my_id)"
   ]
  },
  {
   "cell_type": "code",
   "execution_count": 104,
   "metadata": {},
   "outputs": [
    {
     "data": {
      "text/plain": [
       "901"
      ]
     },
     "execution_count": 104,
     "metadata": {},
     "output_type": "execute_result"
    }
   ],
   "source": [
    "len(pids2keep)"
   ]
  },
  {
   "cell_type": "code",
   "execution_count": 106,
   "metadata": {},
   "outputs": [],
   "source": [
    "main_df['quality+'] = main_df['pid'].apply(lambda x: x in pids2keep) "
   ]
  },
  {
   "cell_type": "code",
   "execution_count": 110,
   "metadata": {},
   "outputs": [],
   "source": [
    "main_df = main_df[main_df['quality+'] == True]"
   ]
  },
  {
   "cell_type": "code",
   "execution_count": 112,
   "metadata": {},
   "outputs": [],
   "source": [
    "main_df=main_df.drop(columns=['quality+'])"
   ]
  },
  {
   "cell_type": "code",
   "execution_count": 113,
   "metadata": {},
   "outputs": [
    {
     "data": {
      "text/html": [
       "<div>\n",
       "<style scoped>\n",
       "    .dataframe tbody tr th:only-of-type {\n",
       "        vertical-align: middle;\n",
       "    }\n",
       "\n",
       "    .dataframe tbody tr th {\n",
       "        vertical-align: top;\n",
       "    }\n",
       "\n",
       "    .dataframe thead th {\n",
       "        text-align: right;\n",
       "    }\n",
       "</style>\n",
       "<table border=\"1\" class=\"dataframe\">\n",
       "  <thead>\n",
       "    <tr style=\"text-align: right;\">\n",
       "      <th></th>\n",
       "      <th>time</th>\n",
       "      <th>sleep_stage</th>\n",
       "      <th>enmoTrunc</th>\n",
       "      <th>enmoAbs</th>\n",
       "      <th>xMean</th>\n",
       "      <th>yMean</th>\n",
       "      <th>zMean</th>\n",
       "      <th>xRange</th>\n",
       "      <th>yRange</th>\n",
       "      <th>zRange</th>\n",
       "      <th>...</th>\n",
       "      <th>vmfft10</th>\n",
       "      <th>vmfft11</th>\n",
       "      <th>vmfft12</th>\n",
       "      <th>temp</th>\n",
       "      <th>samples</th>\n",
       "      <th>dataErrors</th>\n",
       "      <th>clipsBeforeCalibr</th>\n",
       "      <th>clipsAfterCalibr</th>\n",
       "      <th>rawSamples</th>\n",
       "      <th>pid</th>\n",
       "    </tr>\n",
       "  </thead>\n",
       "  <tbody>\n",
       "    <tr>\n",
       "      <th>0</th>\n",
       "      <td>2016-09-14 22:05:48</td>\n",
       "      <td>0</td>\n",
       "      <td>0.002441</td>\n",
       "      <td>0.003154</td>\n",
       "      <td>0.530467</td>\n",
       "      <td>-0.158635</td>\n",
       "      <td>-0.834665</td>\n",
       "      <td>0.069175</td>\n",
       "      <td>0.073022</td>\n",
       "      <td>0.043869</td>\n",
       "      <td>...</td>\n",
       "      <td>0.000026</td>\n",
       "      <td>0.000016</td>\n",
       "      <td>0.000035</td>\n",
       "      <td>1.0</td>\n",
       "      <td>900.0</td>\n",
       "      <td>0.0</td>\n",
       "      <td>0.0</td>\n",
       "      <td>0.0</td>\n",
       "      <td>901.0</td>\n",
       "      <td>309851</td>\n",
       "    </tr>\n",
       "    <tr>\n",
       "      <th>1</th>\n",
       "      <td>2016-09-14 22:06:18</td>\n",
       "      <td>0</td>\n",
       "      <td>0.011548</td>\n",
       "      <td>0.017493</td>\n",
       "      <td>0.716109</td>\n",
       "      <td>-0.166347</td>\n",
       "      <td>-0.617661</td>\n",
       "      <td>0.953613</td>\n",
       "      <td>0.484146</td>\n",
       "      <td>0.649047</td>\n",
       "      <td>...</td>\n",
       "      <td>0.000529</td>\n",
       "      <td>0.000611</td>\n",
       "      <td>0.000705</td>\n",
       "      <td>1.0</td>\n",
       "      <td>900.0</td>\n",
       "      <td>0.0</td>\n",
       "      <td>0.0</td>\n",
       "      <td>0.0</td>\n",
       "      <td>902.0</td>\n",
       "      <td>309851</td>\n",
       "    </tr>\n",
       "    <tr>\n",
       "      <th>2</th>\n",
       "      <td>2016-09-14 22:06:48</td>\n",
       "      <td>0</td>\n",
       "      <td>0.009615</td>\n",
       "      <td>0.012009</td>\n",
       "      <td>0.863934</td>\n",
       "      <td>-0.099551</td>\n",
       "      <td>-0.499668</td>\n",
       "      <td>0.562286</td>\n",
       "      <td>0.454137</td>\n",
       "      <td>1.092712</td>\n",
       "      <td>...</td>\n",
       "      <td>0.000710</td>\n",
       "      <td>0.000678</td>\n",
       "      <td>0.000527</td>\n",
       "      <td>1.0</td>\n",
       "      <td>900.0</td>\n",
       "      <td>0.0</td>\n",
       "      <td>0.0</td>\n",
       "      <td>0.0</td>\n",
       "      <td>902.0</td>\n",
       "      <td>309851</td>\n",
       "    </tr>\n",
       "    <tr>\n",
       "      <th>3</th>\n",
       "      <td>2016-09-14 22:07:18</td>\n",
       "      <td>0</td>\n",
       "      <td>0.006272</td>\n",
       "      <td>0.006386</td>\n",
       "      <td>0.807006</td>\n",
       "      <td>-0.092272</td>\n",
       "      <td>-0.593144</td>\n",
       "      <td>0.057316</td>\n",
       "      <td>0.109033</td>\n",
       "      <td>0.087737</td>\n",
       "      <td>...</td>\n",
       "      <td>0.000045</td>\n",
       "      <td>0.000032</td>\n",
       "      <td>0.000048</td>\n",
       "      <td>1.0</td>\n",
       "      <td>900.0</td>\n",
       "      <td>0.0</td>\n",
       "      <td>0.0</td>\n",
       "      <td>0.0</td>\n",
       "      <td>902.0</td>\n",
       "      <td>309851</td>\n",
       "    </tr>\n",
       "    <tr>\n",
       "      <th>4</th>\n",
       "      <td>2016-09-14 22:07:48</td>\n",
       "      <td>0</td>\n",
       "      <td>0.008497</td>\n",
       "      <td>0.011191</td>\n",
       "      <td>0.813446</td>\n",
       "      <td>-0.067297</td>\n",
       "      <td>-0.584071</td>\n",
       "      <td>0.515841</td>\n",
       "      <td>0.546164</td>\n",
       "      <td>0.403785</td>\n",
       "      <td>...</td>\n",
       "      <td>0.000144</td>\n",
       "      <td>0.000014</td>\n",
       "      <td>0.000049</td>\n",
       "      <td>1.0</td>\n",
       "      <td>900.0</td>\n",
       "      <td>0.0</td>\n",
       "      <td>0.0</td>\n",
       "      <td>0.0</td>\n",
       "      <td>902.0</td>\n",
       "      <td>309851</td>\n",
       "    </tr>\n",
       "    <tr>\n",
       "      <th>...</th>\n",
       "      <td>...</td>\n",
       "      <td>...</td>\n",
       "      <td>...</td>\n",
       "      <td>...</td>\n",
       "      <td>...</td>\n",
       "      <td>...</td>\n",
       "      <td>...</td>\n",
       "      <td>...</td>\n",
       "      <td>...</td>\n",
       "      <td>...</td>\n",
       "      <td>...</td>\n",
       "      <td>...</td>\n",
       "      <td>...</td>\n",
       "      <td>...</td>\n",
       "      <td>...</td>\n",
       "      <td>...</td>\n",
       "      <td>...</td>\n",
       "      <td>...</td>\n",
       "      <td>...</td>\n",
       "      <td>...</td>\n",
       "      <td>...</td>\n",
       "    </tr>\n",
       "    <tr>\n",
       "      <th>844604</th>\n",
       "      <td>2016-06-10 05:14:48</td>\n",
       "      <td>0</td>\n",
       "      <td>0.000263</td>\n",
       "      <td>0.003205</td>\n",
       "      <td>0.562917</td>\n",
       "      <td>-0.460846</td>\n",
       "      <td>-0.682129</td>\n",
       "      <td>0.028922</td>\n",
       "      <td>0.041041</td>\n",
       "      <td>0.046963</td>\n",
       "      <td>...</td>\n",
       "      <td>0.000004</td>\n",
       "      <td>0.000015</td>\n",
       "      <td>0.000014</td>\n",
       "      <td>1.0</td>\n",
       "      <td>900.0</td>\n",
       "      <td>0.0</td>\n",
       "      <td>0.0</td>\n",
       "      <td>0.0</td>\n",
       "      <td>902.0</td>\n",
       "      <td>483395</td>\n",
       "    </tr>\n",
       "    <tr>\n",
       "      <th>844605</th>\n",
       "      <td>2016-06-10 05:15:18</td>\n",
       "      <td>0</td>\n",
       "      <td>0.000285</td>\n",
       "      <td>0.003111</td>\n",
       "      <td>0.562268</td>\n",
       "      <td>-0.462320</td>\n",
       "      <td>-0.681752</td>\n",
       "      <td>0.078787</td>\n",
       "      <td>0.044044</td>\n",
       "      <td>0.060952</td>\n",
       "      <td>...</td>\n",
       "      <td>0.000005</td>\n",
       "      <td>0.000002</td>\n",
       "      <td>0.000002</td>\n",
       "      <td>1.0</td>\n",
       "      <td>900.0</td>\n",
       "      <td>0.0</td>\n",
       "      <td>0.0</td>\n",
       "      <td>0.0</td>\n",
       "      <td>902.0</td>\n",
       "      <td>483395</td>\n",
       "    </tr>\n",
       "    <tr>\n",
       "      <th>844606</th>\n",
       "      <td>2016-06-10 05:15:48</td>\n",
       "      <td>0</td>\n",
       "      <td>0.000384</td>\n",
       "      <td>0.003095</td>\n",
       "      <td>0.556333</td>\n",
       "      <td>-0.441250</td>\n",
       "      <td>-0.700709</td>\n",
       "      <td>0.076793</td>\n",
       "      <td>0.059060</td>\n",
       "      <td>0.061951</td>\n",
       "      <td>...</td>\n",
       "      <td>0.000004</td>\n",
       "      <td>0.000006</td>\n",
       "      <td>0.000002</td>\n",
       "      <td>1.0</td>\n",
       "      <td>900.0</td>\n",
       "      <td>0.0</td>\n",
       "      <td>0.0</td>\n",
       "      <td>0.0</td>\n",
       "      <td>902.0</td>\n",
       "      <td>483395</td>\n",
       "    </tr>\n",
       "    <tr>\n",
       "      <th>844607</th>\n",
       "      <td>2016-06-10 05:16:18</td>\n",
       "      <td>0</td>\n",
       "      <td>0.000260</td>\n",
       "      <td>0.003010</td>\n",
       "      <td>0.556249</td>\n",
       "      <td>-0.436737</td>\n",
       "      <td>-0.703363</td>\n",
       "      <td>0.031914</td>\n",
       "      <td>0.047048</td>\n",
       "      <td>0.049960</td>\n",
       "      <td>...</td>\n",
       "      <td>0.000002</td>\n",
       "      <td>0.000009</td>\n",
       "      <td>0.000009</td>\n",
       "      <td>1.0</td>\n",
       "      <td>900.0</td>\n",
       "      <td>0.0</td>\n",
       "      <td>0.0</td>\n",
       "      <td>0.0</td>\n",
       "      <td>902.0</td>\n",
       "      <td>483395</td>\n",
       "    </tr>\n",
       "    <tr>\n",
       "      <th>844608</th>\n",
       "      <td>2016-06-10 05:16:48</td>\n",
       "      <td>0</td>\n",
       "      <td>0.000269</td>\n",
       "      <td>0.003176</td>\n",
       "      <td>0.552968</td>\n",
       "      <td>-0.428276</td>\n",
       "      <td>-0.710977</td>\n",
       "      <td>0.020944</td>\n",
       "      <td>0.038039</td>\n",
       "      <td>0.023981</td>\n",
       "      <td>...</td>\n",
       "      <td>0.000025</td>\n",
       "      <td>0.000011</td>\n",
       "      <td>0.000005</td>\n",
       "      <td>1.0</td>\n",
       "      <td>900.0</td>\n",
       "      <td>0.0</td>\n",
       "      <td>0.0</td>\n",
       "      <td>0.0</td>\n",
       "      <td>902.0</td>\n",
       "      <td>483395</td>\n",
       "    </tr>\n",
       "  </tbody>\n",
       "</table>\n",
       "<p>807835 rows × 122 columns</p>\n",
       "</div>"
      ],
      "text/plain": [
       "                       time  sleep_stage  enmoTrunc   enmoAbs     xMean  \\\n",
       "0       2016-09-14 22:05:48            0   0.002441  0.003154  0.530467   \n",
       "1       2016-09-14 22:06:18            0   0.011548  0.017493  0.716109   \n",
       "2       2016-09-14 22:06:48            0   0.009615  0.012009  0.863934   \n",
       "3       2016-09-14 22:07:18            0   0.006272  0.006386  0.807006   \n",
       "4       2016-09-14 22:07:48            0   0.008497  0.011191  0.813446   \n",
       "...                     ...          ...        ...       ...       ...   \n",
       "844604  2016-06-10 05:14:48            0   0.000263  0.003205  0.562917   \n",
       "844605  2016-06-10 05:15:18            0   0.000285  0.003111  0.562268   \n",
       "844606  2016-06-10 05:15:48            0   0.000384  0.003095  0.556333   \n",
       "844607  2016-06-10 05:16:18            0   0.000260  0.003010  0.556249   \n",
       "844608  2016-06-10 05:16:48            0   0.000269  0.003176  0.552968   \n",
       "\n",
       "           yMean     zMean    xRange    yRange    zRange  ...   vmfft10  \\\n",
       "0      -0.158635 -0.834665  0.069175  0.073022  0.043869  ...  0.000026   \n",
       "1      -0.166347 -0.617661  0.953613  0.484146  0.649047  ...  0.000529   \n",
       "2      -0.099551 -0.499668  0.562286  0.454137  1.092712  ...  0.000710   \n",
       "3      -0.092272 -0.593144  0.057316  0.109033  0.087737  ...  0.000045   \n",
       "4      -0.067297 -0.584071  0.515841  0.546164  0.403785  ...  0.000144   \n",
       "...          ...       ...       ...       ...       ...  ...       ...   \n",
       "844604 -0.460846 -0.682129  0.028922  0.041041  0.046963  ...  0.000004   \n",
       "844605 -0.462320 -0.681752  0.078787  0.044044  0.060952  ...  0.000005   \n",
       "844606 -0.441250 -0.700709  0.076793  0.059060  0.061951  ...  0.000004   \n",
       "844607 -0.436737 -0.703363  0.031914  0.047048  0.049960  ...  0.000002   \n",
       "844608 -0.428276 -0.710977  0.020944  0.038039  0.023981  ...  0.000025   \n",
       "\n",
       "         vmfft11   vmfft12  temp  samples  dataErrors  clipsBeforeCalibr  \\\n",
       "0       0.000016  0.000035   1.0    900.0         0.0                0.0   \n",
       "1       0.000611  0.000705   1.0    900.0         0.0                0.0   \n",
       "2       0.000678  0.000527   1.0    900.0         0.0                0.0   \n",
       "3       0.000032  0.000048   1.0    900.0         0.0                0.0   \n",
       "4       0.000014  0.000049   1.0    900.0         0.0                0.0   \n",
       "...          ...       ...   ...      ...         ...                ...   \n",
       "844604  0.000015  0.000014   1.0    900.0         0.0                0.0   \n",
       "844605  0.000002  0.000002   1.0    900.0         0.0                0.0   \n",
       "844606  0.000006  0.000002   1.0    900.0         0.0                0.0   \n",
       "844607  0.000009  0.000009   1.0    900.0         0.0                0.0   \n",
       "844608  0.000011  0.000005   1.0    900.0         0.0                0.0   \n",
       "\n",
       "        clipsAfterCalibr  rawSamples     pid  \n",
       "0                    0.0       901.0  309851  \n",
       "1                    0.0       902.0  309851  \n",
       "2                    0.0       902.0  309851  \n",
       "3                    0.0       902.0  309851  \n",
       "4                    0.0       902.0  309851  \n",
       "...                  ...         ...     ...  \n",
       "844604               0.0       902.0  483395  \n",
       "844605               0.0       902.0  483395  \n",
       "844606               0.0       902.0  483395  \n",
       "844607               0.0       902.0  483395  \n",
       "844608               0.0       902.0  483395  \n",
       "\n",
       "[807835 rows x 122 columns]"
      ]
     },
     "execution_count": 113,
     "metadata": {},
     "output_type": "execute_result"
    }
   ],
   "source": [
    "main_df"
   ]
  },
  {
   "cell_type": "code",
   "execution_count": 114,
   "metadata": {},
   "outputs": [
    {
     "data": {
      "text/plain": [
       "<AxesSubplot:>"
      ]
     },
     "execution_count": 114,
     "metadata": {},
     "output_type": "execute_result"
    },
    {
     "data": {
      "image/png": "[encoded data removed]",
      "text/plain": [
       "<Figure size 432x288 with 1 Axes>"
      ]
     },
     "metadata": {
      "needs_background": "light"
     },
     "output_type": "display_data"
    }
   ],
   "source": [
    "main_df['sleep_stage'].value_counts().plot(kind='bar')\n"
   ]
  },
  {
   "cell_type": "code",
   "execution_count": 116,
   "metadata": {},
   "outputs": [
    {
     "data": {
      "text/plain": [
       "807835"
      ]
     },
     "execution_count": 116,
     "metadata": {},
     "output_type": "execute_result"
    }
   ],
   "source": [
    "len(main_df)"
   ]
  },
  {
   "cell_type": "markdown",
   "metadata": {},
   "source": [
    "# Need to remove the extra stages"
   ]
  },
  {
   "cell_type": "code",
   "execution_count": 8,
   "metadata": {},
   "outputs": [],
   "source": [
    "# convert the numbers into the actual text \n",
    "sleep_stage = {\n",
    "    0: 'awake',\n",
    "    1: 'N1',\n",
    "    2: 'N2',\n",
    "    3: 'N3',\n",
    "    5: 'REM'\n",
    "}\n",
    "valid_stages = [0, 1, 2, 3, 5]"
   ]
  },
  {
   "cell_type": "code",
   "execution_count": 4,
   "metadata": {},
   "outputs": [],
   "source": [
    "main_df = pd.read_csv(clean_master_file)"
   ]
  },
  {
   "cell_type": "code",
   "execution_count": 9,
   "metadata": {},
   "outputs": [],
   "source": [
    "\n",
    "main_df['ok_stage'] = main_df['sleep_stage'].apply(lambda x: x in valid_stages) "
   ]
  },
  {
   "cell_type": "code",
   "execution_count": 10,
   "metadata": {},
   "outputs": [],
   "source": [
    "main_df = main_df[main_df['ok_stage']]"
   ]
  },
  {
   "cell_type": "code",
   "execution_count": 16,
   "metadata": {},
   "outputs": [],
   "source": [
    "value_counts = main_df['sleep_stage'].value_counts()\n",
    "value_counts.index = list(map(sleep_stage.get, value_counts.index))"
   ]
  },
  {
   "cell_type": "code",
   "execution_count": 24,
   "metadata": {},
   "outputs": [
    {
     "data": {
      "text/plain": [
       "N2       321739\n",
       "awake    165521\n",
       "REM      120058\n",
       "N1       113128\n",
       "N3        87229\n",
       "Name: sleep_stage, dtype: int64"
      ]
     },
     "execution_count": 24,
     "metadata": {},
     "output_type": "execute_result"
    }
   ],
   "source": [
    "value_counts"
   ]
  },
  {
   "cell_type": "code",
   "execution_count": 28,
   "metadata": {},
   "outputs": [
    {
     "data": {
      "image/png": "[encoded data removed]",
      "text/plain": [
       "<Figure size 432x288 with 1 Axes>"
      ]
     },
     "metadata": {
      "needs_background": "light"
     },
     "output_type": "display_data"
    }
   ],
   "source": [
    "height = value_counts.tolist()\n",
    "bars = value_counts.index\n",
    "y_pos = np.arange(len(bars))\n",
    " \n",
    "plt.bar(y_pos, height)\n",
    "plt.xticks(y_pos, bars)\n",
    "plt.ylabel('Epoch count')\n",
    "# Show graphic\n",
    "plt.show()\n"
   ]
  },
  {
   "cell_type": "code",
   "execution_count": null,
   "metadata": {},
   "outputs": [],
   "source": [
    "main_df.to_csv(clean_master_file, index=False)"
   ]
  },
  {
   "cell_type": "markdown",
   "metadata": {},
   "source": [
    "## Proper exploratory analysis with meta data"
   ]
  },
  {
   "cell_type": "code",
   "execution_count": 2,
   "metadata": {},
   "outputs": [],
   "source": [
    "main_df = pd.read_csv(clean_master_file, index_col=False)\n"
   ]
  },
  {
   "cell_type": "code",
   "execution_count": 36,
   "metadata": {},
   "outputs": [],
   "source": [
    "meta_data_path = '/well/doherty/users/cxx579/project_data/raine/gen1_26/gen1-sleep-metadata-jun20-newID.csv'\n",
    "meta_df = pd.read_csv(meta_data_path)"
   ]
  },
  {
   "cell_type": "code",
   "execution_count": 7,
   "metadata": {},
   "outputs": [],
   "source": [
    "pids_left = main_df['pid'].unique()"
   ]
  },
  {
   "cell_type": "code",
   "execution_count": 37,
   "metadata": {},
   "outputs": [],
   "source": [
    "meta_df = meta_df.loc[:, ~meta_df.columns.str.contains('^Unnamed')]\n",
    "meta_df['inlcuded'] = meta_df['Study ID'].apply(lambda x: x in pids_left)\n",
    "meta_df = meta_df[meta_df['inlcuded'] ]"
   ]
  },
  {
   "cell_type": "code",
   "execution_count": null,
   "metadata": {},
   "outputs": [],
   "source": [
    "# AHI distribution"
   ]
  },
  {
   "cell_type": "code",
   "execution_count": 15,
   "metadata": {},
   "outputs": [
    {
     "data": {
      "text/html": [
       "<div>\n",
       "<style scoped>\n",
       "    .dataframe tbody tr th:only-of-type {\n",
       "        vertical-align: middle;\n",
       "    }\n",
       "\n",
       "    .dataframe tbody tr th {\n",
       "        vertical-align: top;\n",
       "    }\n",
       "\n",
       "    .dataframe thead th {\n",
       "        text-align: right;\n",
       "    }\n",
       "</style>\n",
       "<table border=\"1\" class=\"dataframe\">\n",
       "  <thead>\n",
       "    <tr style=\"text-align: right;\">\n",
       "      <th></th>\n",
       "      <th>Study ID</th>\n",
       "      <th>Gender</th>\n",
       "      <th>DOB</th>\n",
       "      <th>Study Date</th>\n",
       "      <th>Age at Study</th>\n",
       "      <th>Study Duration</th>\n",
       "      <th>TST (min)</th>\n",
       "      <th>SOL (min)</th>\n",
       "      <th>SE (%)</th>\n",
       "      <th>WASO (min)</th>\n",
       "      <th>...</th>\n",
       "      <th>PLM Index</th>\n",
       "      <th>Total Apnea &amp; Hypopnea (include RERA)</th>\n",
       "      <th>TST/60</th>\n",
       "      <th>#resp events/TST (hr)=AHI</th>\n",
       "      <th>Total Apnea &amp; Hypopnea during sleep (exclu RERA)</th>\n",
       "      <th>#resp events/TST (hr)=AHI (only during sleep</th>\n",
       "      <th>QC Codes</th>\n",
       "      <th>QC Notes</th>\n",
       "      <th>Notes</th>\n",
       "      <th>inlcuded</th>\n",
       "    </tr>\n",
       "  </thead>\n",
       "  <tbody>\n",
       "    <tr>\n",
       "      <th>0</th>\n",
       "      <td>326169</td>\n",
       "      <td>Female</td>\n",
       "      <td>08/10/1968</td>\n",
       "      <td>24/01/2017</td>\n",
       "      <td>48</td>\n",
       "      <td>465.0</td>\n",
       "      <td>426.0</td>\n",
       "      <td>15.0</td>\n",
       "      <td>91.6</td>\n",
       "      <td>24.0</td>\n",
       "      <td>...</td>\n",
       "      <td>0.0</td>\n",
       "      <td>52.0</td>\n",
       "      <td>7.1</td>\n",
       "      <td>7.3</td>\n",
       "      <td>45.0</td>\n",
       "      <td>6.3</td>\n",
       "      <td>NaN</td>\n",
       "      <td>NaN</td>\n",
       "      <td>NaN</td>\n",
       "      <td>True</td>\n",
       "    </tr>\n",
       "    <tr>\n",
       "      <th>1</th>\n",
       "      <td>490916</td>\n",
       "      <td>Male</td>\n",
       "      <td>24/06/1960</td>\n",
       "      <td>24/01/2017</td>\n",
       "      <td>56</td>\n",
       "      <td>466.5</td>\n",
       "      <td>377.0</td>\n",
       "      <td>6.0</td>\n",
       "      <td>80.8</td>\n",
       "      <td>83.5</td>\n",
       "      <td>...</td>\n",
       "      <td>0.6</td>\n",
       "      <td>138.0</td>\n",
       "      <td>6.3</td>\n",
       "      <td>22.0</td>\n",
       "      <td>127.0</td>\n",
       "      <td>20.2</td>\n",
       "      <td>NaN</td>\n",
       "      <td>NaN</td>\n",
       "      <td>NaN</td>\n",
       "      <td>True</td>\n",
       "    </tr>\n",
       "    <tr>\n",
       "      <th>3</th>\n",
       "      <td>610865</td>\n",
       "      <td>Male</td>\n",
       "      <td>12/03/1960</td>\n",
       "      <td>14/07/2015</td>\n",
       "      <td>55</td>\n",
       "      <td>512.0</td>\n",
       "      <td>225.0</td>\n",
       "      <td>6.5</td>\n",
       "      <td>43.9</td>\n",
       "      <td>229.0</td>\n",
       "      <td>...</td>\n",
       "      <td>0.0</td>\n",
       "      <td>108.0</td>\n",
       "      <td>3.8</td>\n",
       "      <td>28.8</td>\n",
       "      <td>102.0</td>\n",
       "      <td>27.2</td>\n",
       "      <td>slept less than 4 hours</td>\n",
       "      <td>NaN</td>\n",
       "      <td>slept less than 4 hours</td>\n",
       "      <td>True</td>\n",
       "    </tr>\n",
       "    <tr>\n",
       "      <th>5</th>\n",
       "      <td>744162</td>\n",
       "      <td>Male</td>\n",
       "      <td>05/04/1961</td>\n",
       "      <td>07/12/2015</td>\n",
       "      <td>54</td>\n",
       "      <td>438.0</td>\n",
       "      <td>361.0</td>\n",
       "      <td>9.0</td>\n",
       "      <td>82.4</td>\n",
       "      <td>68.0</td>\n",
       "      <td>...</td>\n",
       "      <td>0.0</td>\n",
       "      <td>44.0</td>\n",
       "      <td>6.0</td>\n",
       "      <td>7.3</td>\n",
       "      <td>27.0</td>\n",
       "      <td>4.5</td>\n",
       "      <td>NaN</td>\n",
       "      <td>NaN</td>\n",
       "      <td>NaN</td>\n",
       "      <td>True</td>\n",
       "    </tr>\n",
       "    <tr>\n",
       "      <th>6</th>\n",
       "      <td>153826</td>\n",
       "      <td>Female</td>\n",
       "      <td>25/01/1962</td>\n",
       "      <td>26/05/2015</td>\n",
       "      <td>53</td>\n",
       "      <td>488.0</td>\n",
       "      <td>210.5</td>\n",
       "      <td>52.5</td>\n",
       "      <td>43.1</td>\n",
       "      <td>222.0</td>\n",
       "      <td>...</td>\n",
       "      <td>94.9</td>\n",
       "      <td>16.0</td>\n",
       "      <td>3.5</td>\n",
       "      <td>4.6</td>\n",
       "      <td>15.0</td>\n",
       "      <td>4.3</td>\n",
       "      <td>slept less than 4 hours</td>\n",
       "      <td>NaN</td>\n",
       "      <td>slept less than 4 hours</td>\n",
       "      <td>True</td>\n",
       "    </tr>\n",
       "    <tr>\n",
       "      <th>...</th>\n",
       "      <td>...</td>\n",
       "      <td>...</td>\n",
       "      <td>...</td>\n",
       "      <td>...</td>\n",
       "      <td>...</td>\n",
       "      <td>...</td>\n",
       "      <td>...</td>\n",
       "      <td>...</td>\n",
       "      <td>...</td>\n",
       "      <td>...</td>\n",
       "      <td>...</td>\n",
       "      <td>...</td>\n",
       "      <td>...</td>\n",
       "      <td>...</td>\n",
       "      <td>...</td>\n",
       "      <td>...</td>\n",
       "      <td>...</td>\n",
       "      <td>...</td>\n",
       "      <td>...</td>\n",
       "      <td>...</td>\n",
       "      <td>...</td>\n",
       "    </tr>\n",
       "    <tr>\n",
       "      <th>1001</th>\n",
       "      <td>203796</td>\n",
       "      <td>Female</td>\n",
       "      <td>16/01/1958</td>\n",
       "      <td>30/05/2016</td>\n",
       "      <td>58</td>\n",
       "      <td>452.5</td>\n",
       "      <td>407.5</td>\n",
       "      <td>7.0</td>\n",
       "      <td>90.1</td>\n",
       "      <td>38.0</td>\n",
       "      <td>...</td>\n",
       "      <td>0.0</td>\n",
       "      <td>70.0</td>\n",
       "      <td>6.8</td>\n",
       "      <td>10.3</td>\n",
       "      <td>70.0</td>\n",
       "      <td>10.3</td>\n",
       "      <td>NaN</td>\n",
       "      <td>NaN</td>\n",
       "      <td>NaN</td>\n",
       "      <td>True</td>\n",
       "    </tr>\n",
       "    <tr>\n",
       "      <th>1002</th>\n",
       "      <td>690984</td>\n",
       "      <td>Male</td>\n",
       "      <td>17/09/1964</td>\n",
       "      <td>11/10/2016</td>\n",
       "      <td>52</td>\n",
       "      <td>449.5</td>\n",
       "      <td>382.5</td>\n",
       "      <td>4.0</td>\n",
       "      <td>85.1</td>\n",
       "      <td>63.0</td>\n",
       "      <td>...</td>\n",
       "      <td>0.0</td>\n",
       "      <td>60.0</td>\n",
       "      <td>6.4</td>\n",
       "      <td>9.4</td>\n",
       "      <td>27.0</td>\n",
       "      <td>4.2</td>\n",
       "      <td>NaN</td>\n",
       "      <td>NaN</td>\n",
       "      <td>NaN</td>\n",
       "      <td>True</td>\n",
       "    </tr>\n",
       "    <tr>\n",
       "      <th>1003</th>\n",
       "      <td>815095</td>\n",
       "      <td>Female</td>\n",
       "      <td>28/11/1963</td>\n",
       "      <td>05/07/2016</td>\n",
       "      <td>52</td>\n",
       "      <td>445.5</td>\n",
       "      <td>358.0</td>\n",
       "      <td>37.0</td>\n",
       "      <td>80.4</td>\n",
       "      <td>46.0</td>\n",
       "      <td>...</td>\n",
       "      <td>0.0</td>\n",
       "      <td>49.0</td>\n",
       "      <td>6.0</td>\n",
       "      <td>8.2</td>\n",
       "      <td>38.0</td>\n",
       "      <td>6.4</td>\n",
       "      <td>NaN</td>\n",
       "      <td>NaN</td>\n",
       "      <td>NaN</td>\n",
       "      <td>True</td>\n",
       "    </tr>\n",
       "    <tr>\n",
       "      <th>1004</th>\n",
       "      <td>152716</td>\n",
       "      <td>Female</td>\n",
       "      <td>19/12/1962</td>\n",
       "      <td>19/05/2016</td>\n",
       "      <td>53</td>\n",
       "      <td>508.0</td>\n",
       "      <td>367.0</td>\n",
       "      <td>46.5</td>\n",
       "      <td>72.2</td>\n",
       "      <td>93.5</td>\n",
       "      <td>...</td>\n",
       "      <td>11.6</td>\n",
       "      <td>29.0</td>\n",
       "      <td>6.1</td>\n",
       "      <td>4.7</td>\n",
       "      <td>22.0</td>\n",
       "      <td>3.6</td>\n",
       "      <td>NaN</td>\n",
       "      <td>NaN</td>\n",
       "      <td>NaN</td>\n",
       "      <td>True</td>\n",
       "    </tr>\n",
       "    <tr>\n",
       "      <th>1005</th>\n",
       "      <td>677787</td>\n",
       "      <td>Male</td>\n",
       "      <td>06/08/1963</td>\n",
       "      <td>19/05/2016</td>\n",
       "      <td>52</td>\n",
       "      <td>519.5</td>\n",
       "      <td>451.0</td>\n",
       "      <td>5.0</td>\n",
       "      <td>86.8</td>\n",
       "      <td>50.0</td>\n",
       "      <td>...</td>\n",
       "      <td>0.0</td>\n",
       "      <td>152.0</td>\n",
       "      <td>7.5</td>\n",
       "      <td>20.2</td>\n",
       "      <td>152.0</td>\n",
       "      <td>20.2</td>\n",
       "      <td>NaN</td>\n",
       "      <td>NaN</td>\n",
       "      <td>NaN</td>\n",
       "      <td>True</td>\n",
       "    </tr>\n",
       "  </tbody>\n",
       "</table>\n",
       "<p>903 rows × 132 columns</p>\n",
       "</div>"
      ],
      "text/plain": [
       "      Study ID  Gender         DOB  Study Date  Age at Study  Study Duration  \\\n",
       "0       326169  Female  08/10/1968  24/01/2017            48           465.0   \n",
       "1       490916    Male  24/06/1960  24/01/2017            56           466.5   \n",
       "3       610865    Male  12/03/1960  14/07/2015            55           512.0   \n",
       "5       744162    Male  05/04/1961  07/12/2015            54           438.0   \n",
       "6       153826  Female  25/01/1962  26/05/2015            53           488.0   \n",
       "...        ...     ...         ...         ...           ...             ...   \n",
       "1001    203796  Female  16/01/1958  30/05/2016            58           452.5   \n",
       "1002    690984    Male  17/09/1964  11/10/2016            52           449.5   \n",
       "1003    815095  Female  28/11/1963  05/07/2016            52           445.5   \n",
       "1004    152716  Female  19/12/1962  19/05/2016            53           508.0   \n",
       "1005    677787    Male  06/08/1963  19/05/2016            52           519.5   \n",
       "\n",
       "      TST (min)  SOL (min)  SE (%)  WASO (min)  ...  PLM Index  \\\n",
       "0         426.0       15.0    91.6        24.0  ...        0.0   \n",
       "1         377.0        6.0    80.8        83.5  ...        0.6   \n",
       "3         225.0        6.5    43.9       229.0  ...        0.0   \n",
       "5         361.0        9.0    82.4        68.0  ...        0.0   \n",
       "6         210.5       52.5    43.1       222.0  ...       94.9   \n",
       "...         ...        ...     ...         ...  ...        ...   \n",
       "1001      407.5        7.0    90.1        38.0  ...        0.0   \n",
       "1002      382.5        4.0    85.1        63.0  ...        0.0   \n",
       "1003      358.0       37.0    80.4        46.0  ...        0.0   \n",
       "1004      367.0       46.5    72.2        93.5  ...       11.6   \n",
       "1005      451.0        5.0    86.8        50.0  ...        0.0   \n",
       "\n",
       "      Total Apnea & Hypopnea (include RERA)  TST/60  \\\n",
       "0                                      52.0     7.1   \n",
       "1                                     138.0     6.3   \n",
       "3                                     108.0     3.8   \n",
       "5                                      44.0     6.0   \n",
       "6                                      16.0     3.5   \n",
       "...                                     ...     ...   \n",
       "1001                                   70.0     6.8   \n",
       "1002                                   60.0     6.4   \n",
       "1003                                   49.0     6.0   \n",
       "1004                                   29.0     6.1   \n",
       "1005                                  152.0     7.5   \n",
       "\n",
       "      #resp events/TST (hr)=AHI  \\\n",
       "0                           7.3   \n",
       "1                          22.0   \n",
       "3                          28.8   \n",
       "5                           7.3   \n",
       "6                           4.6   \n",
       "...                         ...   \n",
       "1001                       10.3   \n",
       "1002                        9.4   \n",
       "1003                        8.2   \n",
       "1004                        4.7   \n",
       "1005                       20.2   \n",
       "\n",
       "      Total Apnea & Hypopnea during sleep (exclu RERA)  \\\n",
       "0                                                 45.0   \n",
       "1                                                127.0   \n",
       "3                                                102.0   \n",
       "5                                                 27.0   \n",
       "6                                                 15.0   \n",
       "...                                                ...   \n",
       "1001                                              70.0   \n",
       "1002                                              27.0   \n",
       "1003                                              38.0   \n",
       "1004                                              22.0   \n",
       "1005                                             152.0   \n",
       "\n",
       "      #resp events/TST (hr)=AHI (only during sleep                 QC Codes  \\\n",
       "0                                              6.3                      NaN   \n",
       "1                                             20.2                      NaN   \n",
       "3                                             27.2  slept less than 4 hours   \n",
       "5                                              4.5                      NaN   \n",
       "6                                              4.3  slept less than 4 hours   \n",
       "...                                            ...                      ...   \n",
       "1001                                          10.3                      NaN   \n",
       "1002                                           4.2                      NaN   \n",
       "1003                                           6.4                      NaN   \n",
       "1004                                           3.6                      NaN   \n",
       "1005                                          20.2                      NaN   \n",
       "\n",
       "      QC Notes                    Notes  inlcuded  \n",
       "0          NaN                      NaN      True  \n",
       "1          NaN                      NaN      True  \n",
       "3          NaN  slept less than 4 hours      True  \n",
       "5          NaN                      NaN      True  \n",
       "6          NaN  slept less than 4 hours      True  \n",
       "...        ...                      ...       ...  \n",
       "1001       NaN                      NaN      True  \n",
       "1002       NaN                      NaN      True  \n",
       "1003       NaN                      NaN      True  \n",
       "1004       NaN                      NaN      True  \n",
       "1005       NaN                      NaN      True  \n",
       "\n",
       "[903 rows x 132 columns]"
      ]
     },
     "execution_count": 15,
     "metadata": {},
     "output_type": "execute_result"
    }
   ],
   "source": [
    "meta_df"
   ]
  },
  {
   "cell_type": "code",
   "execution_count": 41,
   "metadata": {},
   "outputs": [],
   "source": [
    "# subject 543693 age should be 56\n",
    "meta_df['Age at Study'][227] = 56"
   ]
  },
  {
   "cell_type": "code",
   "execution_count": 63,
   "metadata": {},
   "outputs": [],
   "source": [
    "# remove duplicates two entries \n",
    "meta_df = meta_df.drop_duplicates(subset=['Study ID'])"
   ]
  },
  {
   "cell_type": "code",
   "execution_count": 64,
   "metadata": {},
   "outputs": [
    {
     "data": {
      "text/plain": [
       "Text(0.5, 1.0, 'Age at Study')"
      ]
     },
     "execution_count": 64,
     "metadata": {},
     "output_type": "execute_result"
    },
    {
     "data": {
      "image/png": "[encoded data removed]",
      "text/plain": [
       "<Figure size 432x288 with 1 Axes>"
      ]
     },
     "metadata": {
      "needs_background": "light"
     },
     "output_type": "display_data"
    }
   ],
   "source": [
    "plt.hist(meta_df['Age at Study'], bins=35)\n",
    "plt.title('Age at Study')"
   ]
  },
  {
   "cell_type": "code",
   "execution_count": 65,
   "metadata": {},
   "outputs": [
    {
     "data": {
      "text/plain": [
       "Text(0.5, 1.0, 'AHI distribution: #resp events/TST')"
      ]
     },
     "execution_count": 65,
     "metadata": {},
     "output_type": "execute_result"
    },
    {
     "data": {
      "image/png": "[encoded data removed]",
      "text/plain": [
       "<Figure size 432x288 with 1 Axes>"
      ]
     },
     "metadata": {
      "needs_background": "light"
     },
     "output_type": "display_data"
    }
   ],
   "source": [
    "plt.hist(meta_df['#resp events/TST (hr)=AHI'], bins=50)\n",
    "plt.title('AHI distribution: #resp events/TST')"
   ]
  },
  {
   "cell_type": "code",
   "execution_count": 66,
   "metadata": {},
   "outputs": [
    {
     "name": "stderr",
     "output_type": "stream",
     "text": [
      "/gpfs3/well/doherty/users/cxx579/venv/lib/python3.7/site-packages/ipykernel_launcher.py:2: SettingWithCopyWarning: \n",
      "A value is trying to be set on a copy of a slice from a DataFrame.\n",
      "Try using .loc[row_indexer,col_indexer] = value instead\n",
      "\n",
      "See the caveats in the documentation: https://pandas.pydata.org/pandas-docs/stable/user_guide/indexing.html#returning-a-view-versus-a-copy\n",
      "  \n"
     ]
    }
   ],
   "source": [
    "ahi_levels = pd.IntervalIndex.from_tuples([(0, 5), (5, 15), (15, 30), (30, 200)], closed='left')\n",
    "meta_df['ahi_levels'] = pd.cut(x=meta_df['#resp events/TST (hr)=AHI'], bins=ahi_levels)\n"
   ]
  },
  {
   "cell_type": "code",
   "execution_count": 68,
   "metadata": {},
   "outputs": [
    {
     "data": {
      "text/plain": [
       "[5, 15)      380\n",
       "[0, 5)       220\n",
       "[15, 30)     173\n",
       "[30, 200)    128\n",
       "Name: ahi_levels, dtype: int64"
      ]
     },
     "execution_count": 68,
     "metadata": {},
     "output_type": "execute_result"
    }
   ],
   "source": [
    "meta_df['ahi_levels'].value_counts()"
   ]
  },
  {
   "cell_type": "code",
   "execution_count": 69,
   "metadata": {},
   "outputs": [
    {
     "data": {
      "text/plain": [
       "0.3340732519422864"
      ]
     },
     "execution_count": 69,
     "metadata": {},
     "output_type": "execute_result"
    }
   ],
   "source": [
    "(173+128)/901"
   ]
  },
  {
   "cell_type": "code",
   "execution_count": 71,
   "metadata": {},
   "outputs": [
    {
     "data": {
      "text/plain": [
       "Female    513\n",
       "Male      388\n",
       "Name: Gender, dtype: int64"
      ]
     },
     "execution_count": 71,
     "metadata": {},
     "output_type": "execute_result"
    }
   ],
   "source": [
    "meta_df['Gender'].value_counts()"
   ]
  },
  {
   "cell_type": "code",
   "execution_count": 74,
   "metadata": {},
   "outputs": [],
   "source": [
    "# write html file in plots dir to visualise all plots\n",
    "image_dir = '/well/doherty/projects/raine/gen1_26/imgs/'\n",
    "\n",
    "\n",
    "html = '<html><head><title>Annotation plots</title></head><body>'\n",
    "\n",
    "viz_fileList = []\n",
    "for my_pid in pids_left:\n",
    "    viz_fileList.append(str(my_pid)+'.png')\n",
    "for viz in viz_fileList:\n",
    "    html += '<img src=\"' + viz + '\" width=1400 height=700><br>'\n",
    "html += '</body></html>'\n",
    "w = open(image_dir + 'selected_viz.html','w')\n",
    "w.write(html)\n",
    "w.close()"
   ]
  },
  {
   "cell_type": "code",
   "execution_count": 87,
   "metadata": {},
   "outputs": [
    {
     "data": {
      "text/html": [
       "<div>\n",
       "<style scoped>\n",
       "    .dataframe tbody tr th:only-of-type {\n",
       "        vertical-align: middle;\n",
       "    }\n",
       "\n",
       "    .dataframe tbody tr th {\n",
       "        vertical-align: top;\n",
       "    }\n",
       "\n",
       "    .dataframe thead th {\n",
       "        text-align: right;\n",
       "    }\n",
       "</style>\n",
       "<table border=\"1\" class=\"dataframe\">\n",
       "  <thead>\n",
       "    <tr style=\"text-align: right;\">\n",
       "      <th></th>\n",
       "      <th>Study ID</th>\n",
       "      <th>Gender</th>\n",
       "      <th>DOB</th>\n",
       "      <th>Study Date</th>\n",
       "      <th>Age at Study</th>\n",
       "      <th>Study Duration</th>\n",
       "      <th>TST (min)</th>\n",
       "      <th>SOL (min)</th>\n",
       "      <th>SE (%)</th>\n",
       "      <th>WASO (min)</th>\n",
       "      <th>...</th>\n",
       "      <th>Total Apnea &amp; Hypopnea (include RERA)</th>\n",
       "      <th>TST/60</th>\n",
       "      <th>#resp events/TST (hr)=AHI</th>\n",
       "      <th>Total Apnea &amp; Hypopnea during sleep (exclu RERA)</th>\n",
       "      <th>#resp events/TST (hr)=AHI (only during sleep</th>\n",
       "      <th>QC Codes</th>\n",
       "      <th>QC Notes</th>\n",
       "      <th>Notes</th>\n",
       "      <th>inlcuded</th>\n",
       "      <th>ahi_levels</th>\n",
       "    </tr>\n",
       "  </thead>\n",
       "  <tbody>\n",
       "    <tr>\n",
       "      <th>336</th>\n",
       "      <td>847637</td>\n",
       "      <td>Male</td>\n",
       "      <td>02/10/1961</td>\n",
       "      <td>26/10/2016</td>\n",
       "      <td>55</td>\n",
       "      <td>460.0</td>\n",
       "      <td>326.5</td>\n",
       "      <td>12.5</td>\n",
       "      <td>71.0</td>\n",
       "      <td>117.0</td>\n",
       "      <td>...</td>\n",
       "      <td>29.0</td>\n",
       "      <td>5.4</td>\n",
       "      <td>5.3</td>\n",
       "      <td>25.0</td>\n",
       "      <td>4.6</td>\n",
       "      <td>NaN</td>\n",
       "      <td>NaN</td>\n",
       "      <td>NaN</td>\n",
       "      <td>True</td>\n",
       "      <td>[5, 15)</td>\n",
       "    </tr>\n",
       "  </tbody>\n",
       "</table>\n",
       "<p>1 rows × 133 columns</p>\n",
       "</div>"
      ],
      "text/plain": [
       "     Study ID Gender         DOB  Study Date  Age at Study  Study Duration  \\\n",
       "336    847637   Male  02/10/1961  26/10/2016            55           460.0   \n",
       "\n",
       "     TST (min)  SOL (min)  SE (%)  WASO (min)  ...  \\\n",
       "336      326.5       12.5    71.0       117.0  ...   \n",
       "\n",
       "     Total Apnea & Hypopnea (include RERA)  TST/60  #resp events/TST (hr)=AHI  \\\n",
       "336                                   29.0     5.4                        5.3   \n",
       "\n",
       "     Total Apnea & Hypopnea during sleep (exclu RERA)  \\\n",
       "336                                              25.0   \n",
       "\n",
       "     #resp events/TST (hr)=AHI (only during sleep  QC Codes  QC Notes  Notes  \\\n",
       "336                                           4.6       NaN       NaN    NaN   \n",
       "\n",
       "     inlcuded  ahi_levels  \n",
       "336      True     [5, 15)  \n",
       "\n",
       "[1 rows x 133 columns]"
      ]
     },
     "execution_count": 87,
     "metadata": {},
     "output_type": "execute_result"
    }
   ],
   "source": [
    "meta_df[meta_df['Study ID'] == 847637]"
   ]
  },
  {
   "cell_type": "code",
   "execution_count": 92,
   "metadata": {},
   "outputs": [
    {
     "data": {
      "text/html": [
       "<div>\n",
       "<style scoped>\n",
       "    .dataframe tbody tr th:only-of-type {\n",
       "        vertical-align: middle;\n",
       "    }\n",
       "\n",
       "    .dataframe tbody tr th {\n",
       "        vertical-align: top;\n",
       "    }\n",
       "\n",
       "    .dataframe thead th {\n",
       "        text-align: right;\n",
       "    }\n",
       "</style>\n",
       "<table border=\"1\" class=\"dataframe\">\n",
       "  <thead>\n",
       "    <tr style=\"text-align: right;\">\n",
       "      <th></th>\n",
       "      <th>Study ID</th>\n",
       "      <th>Gender</th>\n",
       "      <th>DOB</th>\n",
       "      <th>Study Date</th>\n",
       "      <th>Age at Study</th>\n",
       "      <th>Study Duration</th>\n",
       "      <th>TST (min)</th>\n",
       "      <th>SOL (min)</th>\n",
       "      <th>SE (%)</th>\n",
       "      <th>WASO (min)</th>\n",
       "      <th>...</th>\n",
       "      <th>Total Apnea &amp; Hypopnea (include RERA)</th>\n",
       "      <th>TST/60</th>\n",
       "      <th>#resp events/TST (hr)=AHI</th>\n",
       "      <th>Total Apnea &amp; Hypopnea during sleep (exclu RERA)</th>\n",
       "      <th>#resp events/TST (hr)=AHI (only during sleep</th>\n",
       "      <th>QC Codes</th>\n",
       "      <th>QC Notes</th>\n",
       "      <th>Notes</th>\n",
       "      <th>inlcuded</th>\n",
       "      <th>ahi_levels</th>\n",
       "    </tr>\n",
       "  </thead>\n",
       "  <tbody>\n",
       "    <tr>\n",
       "      <th>454</th>\n",
       "      <td>257243</td>\n",
       "      <td>Male</td>\n",
       "      <td>04/10/1962</td>\n",
       "      <td>18/01/2017</td>\n",
       "      <td>54</td>\n",
       "      <td>203.5</td>\n",
       "      <td>3.5</td>\n",
       "      <td>92.5</td>\n",
       "      <td>1.7</td>\n",
       "      <td>107.5</td>\n",
       "      <td>...</td>\n",
       "      <td>0.0</td>\n",
       "      <td>0.1</td>\n",
       "      <td>0.0</td>\n",
       "      <td>0.0</td>\n",
       "      <td>0.0</td>\n",
       "      <td>Did not sleep</td>\n",
       "      <td>Study terminated at 02h17</td>\n",
       "      <td>real data - didn't sleep, slept less than 4 ho...</td>\n",
       "      <td>True</td>\n",
       "      <td>[0, 5)</td>\n",
       "    </tr>\n",
       "    <tr>\n",
       "      <th>646</th>\n",
       "      <td>568641</td>\n",
       "      <td>Female</td>\n",
       "      <td>26/08/1956</td>\n",
       "      <td>19/08/2015</td>\n",
       "      <td>58</td>\n",
       "      <td>453.5</td>\n",
       "      <td>37.5</td>\n",
       "      <td>154.5</td>\n",
       "      <td>8.3</td>\n",
       "      <td>250.0</td>\n",
       "      <td>...</td>\n",
       "      <td>0.0</td>\n",
       "      <td>0.6</td>\n",
       "      <td>0.0</td>\n",
       "      <td>0.0</td>\n",
       "      <td>0.0</td>\n",
       "      <td>Did not sleep</td>\n",
       "      <td>NaN</td>\n",
       "      <td>real data - didn't sleep, slept less than 4 ho...</td>\n",
       "      <td>True</td>\n",
       "      <td>[0, 5)</td>\n",
       "    </tr>\n",
       "    <tr>\n",
       "      <th>845</th>\n",
       "      <td>177457</td>\n",
       "      <td>Male</td>\n",
       "      <td>19/12/1962</td>\n",
       "      <td>25/05/2017</td>\n",
       "      <td>54</td>\n",
       "      <td>50.0</td>\n",
       "      <td>5.0</td>\n",
       "      <td>28.5</td>\n",
       "      <td>10.0</td>\n",
       "      <td>15.0</td>\n",
       "      <td>...</td>\n",
       "      <td>0.0</td>\n",
       "      <td>0.1</td>\n",
       "      <td>0.0</td>\n",
       "      <td>0.0</td>\n",
       "      <td>0.0</td>\n",
       "      <td>Did not sleep</td>\n",
       "      <td>Study terminated at 00h21</td>\n",
       "      <td>real data - Lights out 23h35. Sleep 00h03-00h0...</td>\n",
       "      <td>True</td>\n",
       "      <td>[0, 5)</td>\n",
       "    </tr>\n",
       "  </tbody>\n",
       "</table>\n",
       "<p>3 rows × 133 columns</p>\n",
       "</div>"
      ],
      "text/plain": [
       "     Study ID  Gender         DOB  Study Date  Age at Study  Study Duration  \\\n",
       "454    257243    Male  04/10/1962  18/01/2017            54           203.5   \n",
       "646    568641  Female  26/08/1956  19/08/2015            58           453.5   \n",
       "845    177457    Male  19/12/1962  25/05/2017            54            50.0   \n",
       "\n",
       "     TST (min)  SOL (min)  SE (%)  WASO (min)  ...  \\\n",
       "454        3.5       92.5     1.7       107.5  ...   \n",
       "646       37.5      154.5     8.3       250.0  ...   \n",
       "845        5.0       28.5    10.0        15.0  ...   \n",
       "\n",
       "     Total Apnea & Hypopnea (include RERA)  TST/60  #resp events/TST (hr)=AHI  \\\n",
       "454                                    0.0     0.1                        0.0   \n",
       "646                                    0.0     0.6                        0.0   \n",
       "845                                    0.0     0.1                        0.0   \n",
       "\n",
       "     Total Apnea & Hypopnea during sleep (exclu RERA)  \\\n",
       "454                                               0.0   \n",
       "646                                               0.0   \n",
       "845                                               0.0   \n",
       "\n",
       "     #resp events/TST (hr)=AHI (only during sleep       QC Codes  \\\n",
       "454                                           0.0  Did not sleep   \n",
       "646                                           0.0  Did not sleep   \n",
       "845                                           0.0  Did not sleep   \n",
       "\n",
       "                      QC Notes  \\\n",
       "454  Study terminated at 02h17   \n",
       "646                        NaN   \n",
       "845  Study terminated at 00h21   \n",
       "\n",
       "                                                 Notes  inlcuded  ahi_levels  \n",
       "454  real data - didn't sleep, slept less than 4 ho...      True      [0, 5)  \n",
       "646  real data - didn't sleep, slept less than 4 ho...      True      [0, 5)  \n",
       "845  real data - Lights out 23h35. Sleep 00h03-00h0...      True      [0, 5)  \n",
       "\n",
       "[3 rows x 133 columns]"
      ]
     },
     "execution_count": 92,
     "metadata": {},
     "output_type": "execute_result"
    }
   ],
   "source": [
    "meta_df[meta_df['QC Codes'] == 'Did not sleep']"
   ]
  },
  {
   "cell_type": "code",
   "execution_count": 94,
   "metadata": {},
   "outputs": [
    {
     "data": {
      "text/plain": [
       "True"
      ]
     },
     "execution_count": 94,
     "metadata": {},
     "output_type": "execute_result"
    }
   ],
   "source": [
    "257243 in pids_left"
   ]
  },
  {
   "cell_type": "markdown",
   "metadata": {},
   "source": [
    "# Remove the ones that are bad after visu inspection"
   ]
  },
  {
   "cell_type": "code",
   "execution_count": 95,
   "metadata": {},
   "outputs": [],
   "source": [
    "pids2remove = [558132, 177457, 546753, 847637, 197821, 257243]"
   ]
  },
  {
   "cell_type": "code",
   "execution_count": 98,
   "metadata": {},
   "outputs": [],
   "source": [
    "main_df['include'] = main_df['pid'].apply(lambda x: x not in pids2remove)"
   ]
  },
  {
   "cell_type": "code",
   "execution_count": 103,
   "metadata": {},
   "outputs": [],
   "source": [
    "main_df = main_df[main_df['include']]\n",
    "main_df=main_df.drop(columns=['ok_stage', 'include'])"
   ]
  },
  {
   "cell_type": "code",
   "execution_count": null,
   "metadata": {},
   "outputs": [],
   "source": [
    "main_df.to_csv(clean_master_file, index=False)"
   ]
  }
 ],
 "metadata": {
  "kernelspec": {
   "display_name": "Python 3",
   "language": "python",
   "name": "python3"
  },
  "language_info": {
   "codemirror_mode": {
    "name": "ipython",
    "version": 3
   },
   "file_extension": ".py",
   "mimetype": "text/x-python",
   "name": "python",
   "nbconvert_exporter": "python",
   "pygments_lexer": "ipython3",
   "version": "3.7.2"
  }
 },
 "nbformat": 4,
 "nbformat_minor": 4
}
