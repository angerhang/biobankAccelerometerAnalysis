{
 "cells": [
  {
   "cell_type": "code",
   "execution_count": 49,
   "metadata": {},
   "outputs": [],
   "source": [
    "import glob\n",
    "from datetime import timedelta, datetime\n",
    "import os\n",
    "from shutil import rmtree\n",
    "import csv \n",
    "import pandas as pd\n",
    "import zipfile"
   ]
  },
  {
   "cell_type": "markdown",
   "metadata": {},
   "source": [
    "# Comput end times\n",
    "Provided with the data file directory, compute all the proper end times given a custom time shift."
   ]
  },
  {
   "cell_type": "code",
   "execution_count": 50,
   "metadata": {},
   "outputs": [],
   "source": [
    "# arguments \n",
    "data_dir = '/well/doherty/users/cxx579/project_data/test_raine'\n",
    "timeshift = timedelta(days=7)\n",
    "script_dir = '/well/doherty/users/cxx579/test_process/myBBAA/process-raine-cmds.txt'\n",
    "dest_script_dir = '/well/doherty/users/cxx579/test_process/myBBAA/process-raine-cmds-final.txt'"
   ]
  },
  {
   "cell_type": "code",
   "execution_count": 37,
   "metadata": {},
   "outputs": [
    {
     "name": "stdout",
     "output_type": "stream",
     "text": [
      "/well/doherty/users/cxx579/project_data/test_raine/tmp exists! Removing....\n"
     ]
    }
   ],
   "source": [
    "endTimeFilePath = data_dir + '/endTime.csv'\n",
    "file_desp = data_dir + '/*.gt3x'\n",
    "tmp_dir = data_dir + '/tmp'\n",
    "info_txt_dir = tmp_dir + '/info.txt'\n",
    "file_list = glob.glob(file_desp)\n",
    "if os.path.exists(tmp_dir):\n",
    "    print(tmp_dir + \" exists! Removing....\")\n",
    "    rmtree(tmp_dir) \n",
    "os.mkdir(tmp_dir)"
   ]
  },
  {
   "cell_type": "code",
   "execution_count": 38,
   "metadata": {},
   "outputs": [],
   "source": [
    "def GT3XfromTickToMillisecond(mydate):\n",
    "    mydate = mydate - 621355968000000000\n",
    "    mydate /= 10000000\n",
    "    mydate = int(mydate)\n",
    "    return datetime.utcfromtimestamp(mydate)"
   ]
  },
  {
   "cell_type": "code",
   "execution_count": 39,
   "metadata": {},
   "outputs": [],
   "source": [
    "# get the start time \n",
    "sample_file_path = file_list[0]"
   ]
  },
  {
   "cell_type": "code",
   "execution_count": 40,
   "metadata": {},
   "outputs": [],
   "source": [
    "def obtain_start_date(txt_dir):\n",
    "    \n",
    "    f = open(txt_dir, \"r\")\n",
    "    start_date = \"0\"\n",
    "    for x in f:\n",
    "        substrs = x.split(\": \")\n",
    "        if (substrs[0] == 'Start Date'):\n",
    "            start_date = substrs[1]\n",
    "            start_date = start_date[:-1] # remove line break'\n",
    "            return int(start_date)\n",
    "        \n",
    "    return int(start_date)"
   ]
  },
  {
   "cell_type": "code",
   "execution_count": 41,
   "metadata": {},
   "outputs": [],
   "source": [
    "startTimes = []\n",
    "endTimes = []\n",
    "fileNames = []\n",
    "\n",
    "for current_file in file_list:\n",
    "    with zipfile.ZipFile(current_file, 'r') as zip_ref:\n",
    "        zip_ref.extractall(tmp_dir)\n",
    "    \n",
    "    start_date = obtain_start_date(info_txt_dir)\n",
    "    localDateTime = GT3XfromTickToMillisecond(start_date)\n",
    "    endTime = localDateTime + timeshift\n",
    "    startTime = localDateTime.strftime('%Y-%m-%dT%H:%M')\n",
    "    endTime = endTime.strftime('%Y-%m-%dT%H:%M')\n",
    "    fileName = current_file.split('/')[-1]\n",
    "    \n",
    "    fileNames.append(fileName)\n",
    "    startTimes.append(startTime)\n",
    "    endTimes.append(endTime)"
   ]
  },
  {
   "cell_type": "code",
   "execution_count": 42,
   "metadata": {},
   "outputs": [],
   "source": [
    "# Exporting end times to csv\n",
    "if os.path.exists(endTimeFilePath):\n",
    "    os.remove(endTimeFilePath)\n",
    "    \n",
    "with open(endTimeFilePath, mode='w') as csv_file:\n",
    "    fieldnames = ['file_name', 'startTime', 'endTime']\n",
    "    writer = csv.DictWriter(csv_file, fieldnames=fieldnames)\n",
    "    writer.writeheader()\n",
    "\n",
    "    for i in range(len(fileNames)):\n",
    "        writer.writerow({'file_name': fileNames[i], \n",
    "                         'startTime': startTimes[i], \n",
    "                         'endTime': endTimes[i]})    "
   ]
  },
  {
   "cell_type": "markdown",
   "metadata": {},
   "source": [
    "# Modify command line script \n",
    "Input for this one should be the script paths and endTime table. \n",
    "We will add the adaptive endTime to each file."
   ]
  },
  {
   "cell_type": "code",
   "execution_count": 51,
   "metadata": {},
   "outputs": [],
   "source": [
    "endTimeDf = pd.read_csv(endTimeFilePath)"
   ]
  },
  {
   "cell_type": "code",
   "execution_count": 52,
   "metadata": {},
   "outputs": [
    {
     "data": {
      "text/html": [
       "<div>\n",
       "<style scoped>\n",
       "    .dataframe tbody tr th:only-of-type {\n",
       "        vertical-align: middle;\n",
       "    }\n",
       "\n",
       "    .dataframe tbody tr th {\n",
       "        vertical-align: top;\n",
       "    }\n",
       "\n",
       "    .dataframe thead th {\n",
       "        text-align: right;\n",
       "    }\n",
       "</style>\n",
       "<table border=\"1\" class=\"dataframe\">\n",
       "  <thead>\n",
       "    <tr style=\"text-align: right;\">\n",
       "      <th></th>\n",
       "      <th>file_name</th>\n",
       "      <th>startTime</th>\n",
       "      <th>endTime</th>\n",
       "    </tr>\n",
       "  </thead>\n",
       "  <tbody>\n",
       "    <tr>\n",
       "      <th>0</th>\n",
       "      <td>770514_wrist_2016-01-18.gt3x</td>\n",
       "      <td>2016-01-18T18:00</td>\n",
       "      <td>2016-01-25T18:00</td>\n",
       "    </tr>\n",
       "    <tr>\n",
       "      <th>1</th>\n",
       "      <td>770768_wrist_2016-04-12.gt3x</td>\n",
       "      <td>2016-04-12T18:00</td>\n",
       "      <td>2016-04-19T18:00</td>\n",
       "    </tr>\n",
       "    <tr>\n",
       "      <th>2</th>\n",
       "      <td>770757_wrist_2017-04-11.gt3x</td>\n",
       "      <td>2017-04-11T18:00</td>\n",
       "      <td>2017-04-18T18:00</td>\n",
       "    </tr>\n",
       "  </tbody>\n",
       "</table>\n",
       "</div>"
      ],
      "text/plain": [
       "                      file_name         startTime           endTime\n",
       "0  770514_wrist_2016-01-18.gt3x  2016-01-18T18:00  2016-01-25T18:00\n",
       "1  770768_wrist_2016-04-12.gt3x  2016-04-12T18:00  2016-04-19T18:00\n",
       "2  770757_wrist_2017-04-11.gt3x  2017-04-11T18:00  2017-04-18T18:00"
      ]
     },
     "execution_count": 52,
     "metadata": {},
     "output_type": "execute_result"
    }
   ],
   "source": [
    "endTimeDf"
   ]
  },
  {
   "cell_type": "code",
   "execution_count": 55,
   "metadata": {},
   "outputs": [],
   "source": [
    "def extract_file_name(command_str):\n",
    "    file_path = command_str.split(' ')\n",
    "    file_path = file_path[2]\n",
    "    file_path = file_path[1:]\n",
    "    file_path = file_path[:-1] # remove quotation marks \n",
    "    \n",
    "    return file_path.split(\"/\")[-1]"
   ]
  },
  {
   "cell_type": "code",
   "execution_count": 56,
   "metadata": {},
   "outputs": [],
   "source": [
    "f = open(script_dir, \"r\")\n",
    "k = 0\n",
    "\n",
    "if os.path.exists(dest_script_dir):\n",
    "    os.remove(dest_script_dir)\n",
    "\n",
    "with open(dest_script_dir, 'a') as dest_f:\n",
    "    for x in f:\n",
    "        my_file_name = extract_file_name(x)\n",
    "        my_end_time = endTimeDf.loc[endTimeDf['file_name'] == my_file_name]['endTime'].item()\n",
    "        x = x[:-1] # remove line break    \n",
    "        x = x + ' --endTime ' + my_end_time + '\\n'\n",
    "        dest_f.write(x)\n",
    "        \n",
    "f.close()"
   ]
  }
 ],
 "metadata": {
  "kernelspec": {
   "display_name": "Python 3",
   "language": "python",
   "name": "python3"
  },
  "language_info": {
   "codemirror_mode": {
    "name": "ipython",
    "version": 3
   },
   "file_extension": ".py",
   "mimetype": "text/x-python",
   "name": "python",
   "nbconvert_exporter": "python",
   "pygments_lexer": "ipython3",
   "version": "3.7.2"
  }
 },
 "nbformat": 4,
 "nbformat_minor": 4
}
