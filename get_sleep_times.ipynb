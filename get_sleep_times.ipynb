{
 "cells": [
  {
   "cell_type": "markdown",
   "metadata": {},
   "source": [
    "# get the sleep time for all the sleep labels after deidentification\n",
    "Output a csv that contains the start and end times for a recording session"
   ]
  },
  {
   "cell_type": "code",
   "execution_count": 8,
   "metadata": {},
   "outputs": [],
   "source": [
    "import glob \n",
    "import pandas as pd\n",
    "from datetime import datetime, timedelta\n",
    "import os\n",
    "import csv"
   ]
  },
  {
   "cell_type": "code",
   "execution_count": 2,
   "metadata": {},
   "outputs": [],
   "source": [
    "src_path = '/well/doherty/users/cxx579/project_data/raine/gen1_26/sleepLabelsClean/'\n",
    "time_dest_path = '/well/doherty/users/cxx579/project_data/raine/gen1_26/sleepTime.csv'\n",
    "\n",
    "file_desp = src_path + '/*.csv'\n",
    "file_list = glob.glob(file_desp)"
   ]
  },
  {
   "cell_type": "code",
   "execution_count": 30,
   "metadata": {},
   "outputs": [],
   "source": [
    "# proper file names for gen1\n",
    "# need to do these conversions\n",
    "\n",
    "original_files = ['81112016_468044.csv', '28292016_504112.csv', '30352016_203796.csv',\n",
    "                 '1412016-_514186.csv', '9032017-_162701.csv', '1412015-_667179.csv']\n",
    "new_files = ['28112016_468044.csv', '28092016_504112.csv', '30052016_203796.csv',\n",
    "            '1412016_514186.csv', '09032017_162701.csv', '14012015_667179.csv']\n",
    "for i in range(len(original_files)):\n",
    "    os.rename(src_path+original_files[i], src_path+new_files[i])"
   ]
  },
  {
   "cell_type": "code",
   "execution_count": 9,
   "metadata": {},
   "outputs": [],
   "source": [
    "def parse_file_name(file_path):\n",
    "    file_name = file_path.split('/')[-1]\n",
    "    file_name = file_name[:-4] # remove .csv extension\n",
    "    subjectID = file_name.split('_')[-1]\n",
    "    file_date = file_name.split('_')[0]\n",
    "\n",
    "    first_day = datetime.strptime(file_date, '%d%m%Y')\n",
    "\n",
    "    if subjectID == '942099' or subjectID == '687006':\n",
    "        # labels start on the same day:\n",
    "        second_day = first_day\n",
    "    else:\n",
    "        second_day = first_day + timedelta(days=1)\n",
    "\n",
    "    first_day_str = first_day.strftime('%d%m%Y')\n",
    "    second_day_str = second_day.strftime('%d%m%Y')\n",
    "    return first_day_str, second_day_str, subjectID"
   ]
  },
  {
   "cell_type": "code",
   "execution_count": 8,
   "metadata": {},
   "outputs": [],
   "source": [
    "def removeLastNRows(csv_path, num_rows):\n",
    "    f = open(csv_path, \"r+\")\n",
    "    lines = f.readlines()\n",
    "    for i in range(num_rows):\n",
    "        lines.pop()\n",
    "\n",
    "    f = open(csv_path, \"w+\")\n",
    "    f.writelines(lines)\n",
    "    f.close()\n",
    "test_file = '/well/doherty/users/cxx579/project_data/raine/gen1_26/sleepLabelsClean/27042016_156814.csv'\n",
    "removeLastNRows(test_file, 9)\n",
    "# extra rows end of the file"
   ]
  },
  {
   "cell_type": "code",
   "execution_count": 10,
   "metadata": {},
   "outputs": [
    {
     "name": "stdout",
     "output_type": "stream",
     "text": [
      "Length mismatch: Expected axis has 2 elements, new values have 3 elements\n",
      "/well/doherty/users/cxx579/project_data/raine/gen1_26/sleepLabelsClean/27042016_156814.csv\n",
      "File not parsed properly!\n"
     ]
    }
   ],
   "source": [
    "subject_IDs = []\n",
    "start_times = []\n",
    "end_times = []\n",
    "\n",
    "for my_file in file_list:\n",
    "    try:\n",
    "        first_day_str, second_day_str, subjectID = parse_file_name(my_file)\n",
    "\n",
    "        if (subjectID == '585573'):\n",
    "            labels = pd.read_csv(my_file,  names=['idx', 'time', 'slee_stage'],\n",
    "                                index_col=False)\n",
    "        else:\n",
    "            labels = pd.read_csv(my_file)\n",
    "            labels.reset_index(inplace=True)\n",
    "            labels.columns = ['idx', 'time', 'slee_stage']\n",
    "\n",
    "        start_t = labels.iloc[0]['time']\n",
    "        end_t = labels.iloc[-1]['time']\n",
    "        start_time = datetime.strptime(first_day_str+' '+start_t, '%d%m%Y %I:%M:%S %p') \n",
    "        end_time = datetime.strptime(second_day_str+' '+end_t, '%d%m%Y %I:%M:%S %p') \n",
    "        subject_IDs.append(subjectID)\n",
    "        start_times.append(start_time)\n",
    "        end_times.append(end_time)\n",
    "    except Exception as e:\n",
    "        print(e)\n",
    "        print(my_file)\n",
    "        print(\"File not parsed properly!\")"
   ]
  },
  {
   "cell_type": "code",
   "execution_count": 12,
   "metadata": {},
   "outputs": [],
   "source": [
    "sleepTimes = {'subject_id': subject_IDs, 'start_time': start_times, 'end_time': end_times}\n",
    "sleepDf = pd.DataFrame(sleepTimes)\n",
    "sleepDf.to_csv(time_dest_path)"
   ]
  },
  {
   "cell_type": "markdown",
   "metadata": {},
   "source": [
    "# Start processing gen2\n",
    "Still need to clean up the gen2 sleep labels\n",
    "Like labels occur on the same days or csv malformed"
   ]
  },
  {
   "cell_type": "code",
   "execution_count": 58,
   "metadata": {},
   "outputs": [],
   "source": [
    "src_path = '/well/doherty/users/cxx579/project_data/raine/gen2_22/sleepLabelsClean/'\n",
    "time_dest_path = '/well/doherty/users/cxx579/project_data/raine/gen2_22/sleepTime.csv'\n",
    "\n",
    "file_desp = src_path + '/*.csv'\n",
    "file_list = glob.glob(file_desp)"
   ]
  },
  {
   "cell_type": "code",
   "execution_count": 76,
   "metadata": {},
   "outputs": [
    {
     "name": "stdout",
     "output_type": "stream",
     "text": [
      "/well/doherty/users/cxx579/project_data/raine/gen2_22/sleepLabelsClean/01042014_223365.csv\n",
      "File not parsed properly!\n"
     ]
    }
   ],
   "source": [
    "subject_IDs = []\n",
    "start_times = []\n",
    "end_times = []\n",
    "\n",
    "for my_file in file_list:\n",
    "    try:\n",
    "        first_day_str, second_day_str, subjectID = parse_file_name(my_file)\n",
    "\n",
    "        labels = pd.read_csv(my_file)\n",
    "        if subjectID != '01042014_223365':\n",
    "            labels.reset_index(inplace=True)\n",
    "        labels.columns = ['idx', 'time', 'slee_stage']\n",
    "\n",
    "        start_t = labels.iloc[0]['time']\n",
    "        end_t = labels.iloc[-1]['time']\n",
    "        start_time = datetime.datetime.strptime(first_day_str+' '+start_t, '%d%m%Y %I:%M:%S %p') \n",
    "        end_time = datetime.datetime.strptime(second_day_str+' '+end_t, '%d%m%Y %I:%M:%S %p') \n",
    "        subject_IDs.append(subjectID)\n",
    "\n",
    "        start_times.append(start_time)\n",
    "        end_times.append(end_time)\n",
    "    except:\n",
    "        print(my_file)\n",
    "        print(\"File not parsed properly!\")"
   ]
  },
  {
   "cell_type": "code",
   "execution_count": 77,
   "metadata": {},
   "outputs": [],
   "source": [
    "sleepTimes = {'subject_id': subject_IDs, 'start_time': start_times, 'end_time': end_times}\n",
    "sleepDf = pd.DataFrame(sleepTimes)\n",
    "sleepDf.to_csv(time_dest_path)"
   ]
  }
 ],
 "metadata": {
  "kernelspec": {
   "display_name": "Python 3",
   "language": "python",
   "name": "python3"
  },
  "language_info": {
   "codemirror_mode": {
    "name": "ipython",
    "version": 3
   },
   "file_extension": ".py",
   "mimetype": "text/x-python",
   "name": "python",
   "nbconvert_exporter": "python",
   "pygments_lexer": "ipython3",
   "version": "3.7.4"
  }
 },
 "nbformat": 4,
 "nbformat_minor": 2
}
